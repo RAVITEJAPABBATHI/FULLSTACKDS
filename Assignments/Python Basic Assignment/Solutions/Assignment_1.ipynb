{
 "cells": [
  {
   "cell_type": "code",
   "execution_count": null,
   "id": "95fa96b5",
   "metadata": {},
   "outputs": [],
   "source": [
    "\"\"\"\n",
    "1. In the below elements which of them are values or an expression? eg:- values can be integer or string and expressions will be mathematical operators.\n",
    "* \n",
    "'hello'\n",
    "-87.8\n",
    "- \n",
    "/ \n",
    "+\n",
    "6 \n",
    "\n",
    "1.Answer)\n",
    "values are 'hello',-87.8,6 <br>\n",
    "expressions contain operators like  *,-,/,+\n",
    "\n",
    "\"\"\""
   ]
  },
  {
   "cell_type": "markdown",
   "id": "b748b03a",
   "metadata": {},
   "source": [
    " "
   ]
  },
  {
   "cell_type": "code",
   "execution_count": null,
   "id": "e36e5301",
   "metadata": {},
   "outputs": [],
   "source": [
    "\"\"\"\n",
    "2. What is the difference between string and variable?\n",
    "\n",
    "2.Answer) string: A string is a data type which holds sequence of characters. It is immutable\n",
    "   variable: A variable is an entity which can store multiple types of data. It reserves memory to store values.\n",
    "\"\"\""
   ]
  },
  {
   "cell_type": "markdown",
   "id": "8f7a9133",
   "metadata": {},
   "source": [
    " "
   ]
  },
  {
   "cell_type": "code",
   "execution_count": null,
   "id": "a7097813",
   "metadata": {},
   "outputs": [],
   "source": [
    "\"\"\"\n",
    "3. Describe three different data types.\n",
    "\n",
    "3.Answer) Integer: stores whole numbers like -2,0,2\n",
    "    Float: stores floating poing numbers like 5.67, 5e2,5e-4\n",
    "    string: stores sequence of characters/words like 'Apple','56 strange occurances'\n",
    "    boolean: stores only 2 values i.e True or False\n",
    "\"\"\""
   ]
  },
  {
   "cell_type": "markdown",
   "id": "160a88b0",
   "metadata": {},
   "source": [
    " "
   ]
  },
  {
   "cell_type": "code",
   "execution_count": null,
   "id": "9cf49722",
   "metadata": {},
   "outputs": [],
   "source": [
    "\"\"\"\n",
    "4. What is an expression made up of? What do all expressions do?\n",
    "\n",
    "4.Answer) An expression is made up of combination variables,operators,values etc. All Expressions are evaluated by compiler when executed.\n",
    "\"\"\""
   ]
  },
  {
   "cell_type": "markdown",
   "id": "ce3b5c4f",
   "metadata": {},
   "source": [
    " "
   ]
  },
  {
   "cell_type": "code",
   "execution_count": null,
   "id": "138f6541",
   "metadata": {},
   "outputs": [],
   "source": [
    "\"\"\"\n",
    "5.This assignment statements, like spam = 10. What is the difference between an expression and a statement?\n",
    "\n",
    "5.Answer) In the above assignment statement only the predefined value is assigned.A statement is just a standalone unit of execution\n",
    "   and doesn’t return anything \n",
    "   An expression is a combination of values and functions that are combined and interpreted by the compiler \n",
    "   to create a new value.\n",
    "\"\"\" "
   ]
  },
  {
   "cell_type": "markdown",
   "id": "2da88a30",
   "metadata": {},
   "source": [
    " "
   ]
  },
  {
   "cell_type": "code",
   "execution_count": null,
   "id": "6ef0a466",
   "metadata": {},
   "outputs": [],
   "source": [
    "\"\"\"\n",
    "6. After running the following code, what does the variable bacon contain?\n",
    "bacon = 22\n",
    "bacon + 1\n",
    "\n",
    "6.Answer) It contains 22\n",
    "\"\"\""
   ]
  },
  {
   "cell_type": "markdown",
   "id": "7870b0e7",
   "metadata": {},
   "source": [
    " "
   ]
  },
  {
   "cell_type": "code",
   "execution_count": null,
   "id": "728f2e56",
   "metadata": {},
   "outputs": [],
   "source": [
    "\"\"\"\n",
    "7. What should the values of the following two terms be?\n",
    "'spam' + 'spamspam'\n",
    "'spam' * 3\n",
    "\n",
    "7.Answer) 'spamspamspam'\n",
    "\"\"\""
   ]
  },
  {
   "cell_type": "markdown",
   "id": "57864ba6",
   "metadata": {},
   "source": [
    " "
   ]
  },
  {
   "cell_type": "code",
   "execution_count": null,
   "id": "0259fc73",
   "metadata": {},
   "outputs": [],
   "source": [
    "\"\"\"\n",
    "8. Why is eggs a valid variable name while 100 is invalid?\n",
    "\n",
    "8.Answer) There are certain rules while creating a variable name.\n",
    "   A variable name must start with a letter or the underscore character.\n",
    "   A variable name cannot start with a number.\n",
    "   A variable name can only contain alpha-numeric characters and underscores (A-z, 0-9, and _ ).\n",
    "   Variable names are case-sensitive.\n",
    "   The reserved words cannot be used naming the variable.\n",
    "\n",
    "\"\"\""
   ]
  },
  {
   "cell_type": "markdown",
   "id": "e46fa18e",
   "metadata": {},
   "source": [
    " "
   ]
  },
  {
   "cell_type": "code",
   "execution_count": null,
   "id": "b887cdf0",
   "metadata": {},
   "outputs": [],
   "source": [
    "\"\"\"\n",
    "9. What three functions can be used to get the integer, floating-point number, or string version of a value?\n",
    "\n",
    "9.Answer) int() is used to get the integer,float() is used to get the floating point number,\n",
    "  str() will give the string version of a value . Below are examples\n",
    "\n",
    "\"\"\"   "
   ]
  },
  {
   "cell_type": "code",
   "execution_count": 14,
   "id": "71fce205",
   "metadata": {},
   "outputs": [
    {
     "name": "stdout",
     "output_type": "stream",
     "text": [
      "Integer value is 6\n",
      "Float value is 7.0\n",
      "string value is 6785\n"
     ]
    }
   ],
   "source": [
    "print(f'Integer value is {int(6.789)}')\n",
    "print(f'Float value is {float(7)}')\n",
    "print(f\"string value is {str('6785')}\")"
   ]
  },
  {
   "cell_type": "markdown",
   "id": "c4d74063",
   "metadata": {},
   "source": [
    " "
   ]
  },
  {
   "cell_type": "raw",
   "id": "b036a95b",
   "metadata": {},
   "source": [
    "\"\"\"\n",
    "10. Why does this expression cause an error? How can you fix it?\n",
    "'I have eaten ' + 99 + ' burritos.'\n",
    "\n",
    "10.Answer) to concatenate string and integer values in the above example int value has to be typecasted to str\n",
    "\"\"\""
   ]
  },
  {
   "cell_type": "code",
   "execution_count": 15,
   "id": "de9cccef",
   "metadata": {},
   "outputs": [
    {
     "data": {
      "text/plain": [
       "'I have eaten 99 burritos.'"
      ]
     },
     "execution_count": 15,
     "metadata": {},
     "output_type": "execute_result"
    }
   ],
   "source": [
    "'I have eaten ' + str(99) + ' burritos.'"
   ]
  }
 ],
 "metadata": {
  "kernelspec": {
   "display_name": "Python 3",
   "language": "python",
   "name": "python3"
  },
  "language_info": {
   "codemirror_mode": {
    "name": "ipython",
    "version": 3
   },
   "file_extension": ".py",
   "mimetype": "text/x-python",
   "name": "python",
   "nbconvert_exporter": "python",
   "pygments_lexer": "ipython3",
   "version": "3.8.8"
  }
 },
 "nbformat": 4,
 "nbformat_minor": 5
}
