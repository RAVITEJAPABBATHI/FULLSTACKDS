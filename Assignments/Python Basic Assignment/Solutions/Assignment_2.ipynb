{
 "cells": [
  {
   "cell_type": "code",
   "execution_count": null,
   "id": "5ec5f313",
   "metadata": {},
   "outputs": [],
   "source": [
    "\"\"\"\n",
    "1.What are the two values of the Boolean data type? How do you write them?\n",
    "\"\"\"\n",
    "\"\"\"\n",
    "1.Answer) \n",
    "  True and False are the 2 types of Boolean data type. We write them as True and False\n",
    "\"\"\""
   ]
  },
  {
   "cell_type": "code",
   "execution_count": null,
   "id": "1e08fd9c",
   "metadata": {},
   "outputs": [],
   "source": [
    "\"\"\"\n",
    "2.What are the three different types of Boolean operators?\n",
    "\"\"\"\n",
    "\"\"\"\n",
    "2.Answer) \n",
    "  The three basic boolean operators are: AND, OR, and NOT.\n",
    "\"\"\""
   ]
  },
  {
   "cell_type": "code",
   "execution_count": 1,
   "id": "69c7deca",
   "metadata": {},
   "outputs": [
    {
     "name": "stdout",
     "output_type": "stream",
     "text": [
      "False\n",
      "False\n",
      "True\n",
      "False\n",
      "False\n",
      "True\n"
     ]
    }
   ],
   "source": [
    "\"\"\"\n",
    "4. What are the values of the following expressions?\n",
    "(5 > 4) and (3 == 5)\n",
    "not (5 > 4)\n",
    "(5 > 4) or (3 == 5)\n",
    "not ((5 > 4) or (3 == 5))\n",
    "(True and True) and (True == False)\n",
    "(not False) or (not True)\n",
    "\n",
    "\"\"\"\n",
    "\n",
    "\"\"\"\n",
    "4.Answer)\n",
    "   (5 > 4) and (3 == 5) is False\n",
    "   not (5 > 4) is False\n",
    "   (5 > 4) or (3 == 5) is True\n",
    "   (True and True) and (True == False) is False\n",
    "  (not False) or (not True) is True\n",
    "   \n",
    "\"\"\"\n",
    "# Answers are executed below\n",
    "print((5 > 4) and (3 == 5))\n",
    "print(not (5 > 4))\n",
    "print((5 > 4) or (3 == 5))\n",
    "print(not ((5 > 4) or (3 == 5)))\n",
    "print((True and True) and (True == False))\n",
    "print((not False) or (not True))\n"
   ]
  },
  {
   "cell_type": "code",
   "execution_count": null,
   "id": "35ae00ac",
   "metadata": {},
   "outputs": [],
   "source": [
    "\"\"\"\n",
    "5. What are the six comparison operators?\n",
    "\"\"\"\n",
    "\n",
    "\"\"\"\n",
    "5.Answer)\n",
    "   The 6 comparison operators are =,!=,>,>=,<,<=\n",
    "\"\"\""
   ]
  },
  {
   "cell_type": "code",
   "execution_count": null,
   "id": "a8401a1e",
   "metadata": {},
   "outputs": [],
   "source": [
    "\"\"\"\n",
    "6. How do you tell the difference between the equal to and assignment operators?Describe a condition and when you would use one.\n",
    "\"\"\"\n",
    "\n",
    "\"\"\"\n",
    "6.Answer) \n",
    "    During Assignment we use  =\n",
    "    During equalto condition we use ==\n",
    "    Example are given below\n",
    "\"\"\"\n",
    "\n",
    "a=2 #assignment\n",
    "5==5.0 #conditionfor equal to"
   ]
  },
  {
   "cell_type": "code",
   "execution_count": null,
   "id": "7e744054",
   "metadata": {},
   "outputs": [],
   "source": [
    "\"\"\"\n",
    "7. Identify the three blocks in this code:\n",
    "spam = 0\n",
    "if spam == 10:\n",
    "print('eggs')\n",
    "if spam > 5:\n",
    "print('bacon')\n",
    "else:\n",
    "print('ham')\n",
    "print('spam')\n",
    "print('spam')\n",
    "\n",
    "\"\"\"\n",
    "\n",
    "\"\"\"\n",
    "7.Answer)\n",
    "\n",
    "\"\"\"\n",
    "#Block1\n",
    "spam = 0\n",
    "\n",
    "#Block2\n",
    "if spam == 10:\n",
    "print('eggs')\n",
    "\n",
    "#Block3\n",
    "if spam > 5:\n",
    "print('bacon')\n",
    "else:\n",
    "print('ham')\n",
    "print('spam')\n",
    "print('spam')"
   ]
  },
  {
   "cell_type": "markdown",
   "id": "7f364872",
   "metadata": {},
   "source": [
    "\n",
    "8. Write code that prints Hello if 1 is stored in spam, prints Howdy if 2 is stored in spam, and prints Greetings! if anything else is stored in spam."
   ]
  },
  {
   "cell_type": "code",
   "execution_count": null,
   "id": "8dd4de85",
   "metadata": {},
   "outputs": [],
   "source": [
    "#8.Answer)\n",
    "spam=2\n",
    "if spam==1:\n",
    "    print('Hello')\n",
    "elif spam==2:\n",
    "    print('Howdy')\n",
    "else:\n",
    "    print('Greetings!')"
   ]
  },
  {
   "cell_type": "code",
   "execution_count": null,
   "id": "a5c668b9",
   "metadata": {},
   "outputs": [],
   "source": [
    "\"\"\"\n",
    "9.If your programme is stuck in an endless loop, what keys you’ll press?\n",
    "\n",
    "9. Answer)  We can hit CTRL+C twice in that terminal to interrupt the entire iPython Notebook server.\n",
    "\"\"\""
   ]
  },
  {
   "cell_type": "code",
   "execution_count": null,
   "id": "996fa0fe",
   "metadata": {},
   "outputs": [],
   "source": [
    "\"\"\"\n",
    "10. How can you tell the difference between break and continue?\n",
    "\"\"\"\n",
    "\"\"\"\n",
    "10.Answer) \n",
    "   The keywords break and continue are used inside a loop. break keyword is used to terminate the loop. \n",
    "   continue keyword is used to skip the current iteration of the loop and proceed to next\n",
    "\"\"\""
   ]
  },
  {
   "cell_type": "code",
   "execution_count": null,
   "id": "c2b12b72",
   "metadata": {},
   "outputs": [],
   "source": [
    "\"\"\"\n",
    "11. In a for loop, what is the difference between range(10), range(0, 10), and range(0, 10, 1)?\n",
    "\"\"\"\n",
    "\"\"\"\n",
    "11.Answer)\n",
    "    A range() function has 3 parameters initial value, upto value, step size.\n",
    "    There is no difference between range(10), range(0, 10), and range(0, 10, 1) \n",
    "    because default initial value is 0 and step size is 1\n",
    "\"\"\""
   ]
  },
  {
   "cell_type": "code",
   "execution_count": null,
   "id": "29d72270",
   "metadata": {},
   "outputs": [],
   "source": [
    "\"\"\"\n",
    "12. Write a short program that prints the numbers 1 to 10 using a for loop. \n",
    "Then write an equivalent program that prints the numbers 1 to 10 using a while loop.\n",
    "\"\"\""
   ]
  },
  {
   "cell_type": "code",
   "execution_count": null,
   "id": "66116c78",
   "metadata": {},
   "outputs": [],
   "source": [
    "#12.Answer\n",
    "# using for loop\n",
    "for i in range(1,11):\n",
    "    print(i)\n",
    "    \n",
    "# using while loop\n",
    "i=1\n",
    "while i<11:\n",
    "    print(i)\n",
    "    i+=1"
   ]
  },
  {
   "cell_type": "code",
   "execution_count": null,
   "id": "24bb50db",
   "metadata": {},
   "outputs": [],
   "source": [
    "\"\"\"\n",
    "13. If you had a function named bacon() inside a module named spam, how would you call it after importing spam?\n",
    "\"\"\"\n",
    "\"\"\"\n",
    "13.Answer)\n",
    "\n",
    "import spam\n",
    "spam.bacon()\n",
    "\n",
    "\"\"\""
   ]
  }
 ],
 "metadata": {
  "kernelspec": {
   "display_name": "Python 3",
   "language": "python",
   "name": "python3"
  },
  "language_info": {
   "codemirror_mode": {
    "name": "ipython",
    "version": 3
   },
   "file_extension": ".py",
   "mimetype": "text/x-python",
   "name": "python",
   "nbconvert_exporter": "python",
   "pygments_lexer": "ipython3",
   "version": "3.8.8"
  }
 },
 "nbformat": 4,
 "nbformat_minor": 5
}
