{
 "cells": [
  {
   "cell_type": "code",
   "execution_count": null,
   "id": "6e523b8b",
   "metadata": {},
   "outputs": [],
   "source": [
    "1. Create a list called years_list, starting with the year of your birth, and \n",
    "    each year thereafter until the year of your fifth birthday. \n",
    "    For example, if you were born in 1980. the list would be \n",
    "    years_list = [1980, 1981, 1982, 1983, 1984, 1985].\n",
    "2. In which year in years_list was your third birthday? Remember, you were 0 years of age\n",
    "   for your first year.\n",
    "3. In the years list, which year were you the oldest?\n",
    "4. Make a list called things with these three strings as \n",
    "     elements: \"mozzarella\", \"cinderella\", \"salmonella\".\n",
    "5. Capitalize the element in things that refers to a person and then print the list. \n",
    "    Did it change the element in the list?\n",
    "6. Make a surprise list with the elements \"Groucho,\" \"Chico,\" and \"Harpo.\"\n",
    "7. Lowercase the last element of the surprise list, reverse it, and then capitalize it.\n",
    "8. Make an English-to-French dictionary called e2f and print it. \n",
    "    Here are your starter words: dog is chien, cat is chat, and walrus is morse.\n",
    "9. Write the French word for walrus in your three-word dictionary e2f.\n",
    "10. Make a French-to-English dictionary called f2e from e2f. Use the items method.\n",
    "11. Print the English version of the French word chien using f2e.\n",
    "12. Make and print a set of English words from the keys in e2f.\n",
    "13. Make a multilevel dictionary called life.\n",
    "    Use these strings for the topmost keys: 'animals', 'plants', and 'other'. \n",
    "    Make the 'animals' key refer to another dictionary with the keys 'cats', 'octopi', and 'emus'. \n",
    "    Make the 'cats' key refer to a list of strings with the values 'Henri', 'Grumpy', and 'Lucy'. \n",
    "    Make all the other keys refer to empty dictionaries.\n",
    "14. Print the top-level keys of life.\n",
    "15. Print the keys for life['animals'].\n",
    "16. Print the values for life['animals']['cats']\n"
   ]
  },
  {
   "cell_type": "code",
   "execution_count": 2,
   "id": "9a676c81",
   "metadata": {},
   "outputs": [
    {
     "name": "stdout",
     "output_type": "stream",
     "text": [
      "[1996, 1997, 1998, 1999, 2000, 2001]\n"
     ]
    }
   ],
   "source": [
    "\"\"\"\n",
    "1. Create a list called years_list, starting with the year of your birth, and \n",
    "    each year thereafter until the year of your fifth birthday. \n",
    "    For example, if you were born in 1980. the list would be \n",
    "    years_list = [1980, 1981, 1982, 1983, 1984, 1985].\n",
    "\"\"\"\n",
    "\"\"\"\n",
    "1.Answer)\n",
    "\"\"\"\n",
    "#years_list=[1996,1997,1998,1999,2000,2001]\n",
    "years_list=[1996+i for i in range(6)]\n",
    "print(years_list)"
   ]
  },
  {
   "cell_type": "code",
   "execution_count": 3,
   "id": "aebec94f",
   "metadata": {},
   "outputs": [
    {
     "data": {
      "text/plain": [
       "1999"
      ]
     },
     "execution_count": 3,
     "metadata": {},
     "output_type": "execute_result"
    }
   ],
   "source": [
    "\"\"\"\n",
    "2. In which year in years_list was your third birthday? Remember, you were 0 years of age\n",
    "   for your first year.\n",
    "\"\"\"\n",
    "\n",
    "\"\"\"\n",
    "2.Answer) 1999\n",
    "\"\"\"\n",
    "years_list[3]"
   ]
  },
  {
   "cell_type": "code",
   "execution_count": 4,
   "id": "b9077ef0",
   "metadata": {},
   "outputs": [
    {
     "data": {
      "text/plain": [
       "2001"
      ]
     },
     "execution_count": 4,
     "metadata": {},
     "output_type": "execute_result"
    }
   ],
   "source": [
    "\"\"\"\n",
    "3. In the years list, which year were you the oldest?\n",
    "\"\"\"\n",
    "\"\"\"\n",
    "3.Answer) 2001\n",
    "\"\"\"\n",
    "years_list[-1]"
   ]
  },
  {
   "cell_type": "code",
   "execution_count": 5,
   "id": "0600e20f",
   "metadata": {},
   "outputs": [],
   "source": [
    "\"\"\"\n",
    "4. Make a list called things with these three strings as \n",
    "     elements: \"mozzarella\", \"cinderella\", \"salmonella\".\n",
    "\"\"\"\n",
    "\"\"\"\n",
    "4.Answer)\n",
    "    elements=[\"mozzarella\", \"cinderella\", \"salmonella\"]\n",
    "\"\"\"\n",
    "elements=[\"mozzarella\", \"cinderella\", \"salmonella\"]"
   ]
  },
  {
   "cell_type": "code",
   "execution_count": 6,
   "id": "6c849ac5",
   "metadata": {},
   "outputs": [
    {
     "name": "stdout",
     "output_type": "stream",
     "text": [
      "Cinderella\n",
      "['mozzarella', 'cinderella', 'salmonella']\n"
     ]
    }
   ],
   "source": [
    "\"\"\"\n",
    "5. Capitalize the element in things that refers to a person and then print the list. \n",
    "    Did it change the element in the list?\n",
    "\"\"\"\n",
    "\"\"\"\n",
    "5.Answer)\n",
    "\n",
    "    elements[1].capitalize() #cinderella refers to a person \n",
    "    No the element of the list is not changed\n",
    "\n",
    "\"\"\"\n",
    "print(elements[1].capitalize())\n",
    "print(elements)"
   ]
  },
  {
   "cell_type": "code",
   "execution_count": 7,
   "id": "3f481fc5",
   "metadata": {},
   "outputs": [],
   "source": [
    "\"\"\"\n",
    "6. Make a surprise list with the elements \"Groucho,\" \"Chico,\" and \"Harpo.\"\n",
    "\"\"\"\n",
    "\"\"\"\n",
    "6.Answer)\n",
    "\"\"\"\n",
    "surprise_list=[\"Groucho\",\"Chico\", \"Harpo\"]"
   ]
  },
  {
   "cell_type": "code",
   "execution_count": 8,
   "id": "45c11d8a",
   "metadata": {},
   "outputs": [
    {
     "data": {
      "text/plain": [
       "'Oprah'"
      ]
     },
     "execution_count": 8,
     "metadata": {},
     "output_type": "execute_result"
    }
   ],
   "source": [
    "\"\"\"\n",
    "7. Lowercase the last element of the surprise list, reverse it, and then capitalize it.\n",
    "\"\"\"\n",
    "\"\"\"\n",
    "7.Answer)\n",
    "    surprise_list[-1].lower()[::-1].capitalize()\n",
    "\"\"\"\n",
    "surprise_list[-1].lower()[::-1].capitalize()"
   ]
  },
  {
   "cell_type": "code",
   "execution_count": 9,
   "id": "56860f35",
   "metadata": {},
   "outputs": [],
   "source": [
    "\"\"\"\n",
    "8. Make an English-to-French dictionary called e2f and print it. \n",
    "    Here are your starter words: dog is chien, cat is chat, and walrus is morse.\n",
    "\"\"\"\n",
    "\"\"\"\n",
    "8.Answer)\n",
    "\"\"\"\n",
    "e2f={\"dog\":\"chien\",\"cat\":\"chat\",\"walrus\":\"morse\"}"
   ]
  },
  {
   "cell_type": "code",
   "execution_count": 10,
   "id": "be87973c",
   "metadata": {},
   "outputs": [
    {
     "data": {
      "text/plain": [
       "'morse'"
      ]
     },
     "execution_count": 10,
     "metadata": {},
     "output_type": "execute_result"
    }
   ],
   "source": [
    "\"\"\"\n",
    "9. Write the French word for walrus in your three-word dictionary e2f.\n",
    "\"\"\"\n",
    "\"\"\"\n",
    "9.Answer) e2f['walrus']\n",
    "\"\"\"\n",
    "e2f['walrus']"
   ]
  },
  {
   "cell_type": "code",
   "execution_count": 11,
   "id": "ed48a16a",
   "metadata": {},
   "outputs": [
    {
     "name": "stdout",
     "output_type": "stream",
     "text": [
      "{'chien': 'dog', 'chat': 'cat', 'morse': 'walrus'}\n"
     ]
    }
   ],
   "source": [
    "\"\"\"\n",
    "10. Make a French-to-English dictionary called f2e from e2f. Use the items method.\n",
    "\"\"\"\n",
    "\"\"\"\n",
    "10.Answer)\n",
    "    f2e= {j:i for (i,j) in e2f.items()}\n",
    "\"\"\"\n",
    "f2e= {j:i for (i,j) in e2f.items()}\n",
    "print(f2e)"
   ]
  },
  {
   "cell_type": "code",
   "execution_count": 12,
   "id": "09c4b37e",
   "metadata": {},
   "outputs": [
    {
     "name": "stdout",
     "output_type": "stream",
     "text": [
      "dog\n"
     ]
    }
   ],
   "source": [
    "\"\"\"\n",
    "11. Print the English version of the French word chien using f2e.\n",
    "\"\"\"\n",
    "\"\"\"\n",
    "11.Answer)\n",
    "\"\"\"\n",
    "print(f2e['chien'])"
   ]
  },
  {
   "cell_type": "code",
   "execution_count": 15,
   "id": "259cc479",
   "metadata": {},
   "outputs": [
    {
     "name": "stdout",
     "output_type": "stream",
     "text": [
      "{'walrus', 'dog', 'cat'}\n"
     ]
    }
   ],
   "source": [
    "\"\"\"\n",
    "12. Make and print a set of English words from the keys in e2f.\n",
    "\"\"\"\n",
    "\"\"\"\n",
    "12.Answer)\n",
    "\"\"\"\n",
    "print(set(e2f.keys()))"
   ]
  },
  {
   "cell_type": "code",
   "execution_count": 16,
   "id": "bcbe51bb",
   "metadata": {},
   "outputs": [],
   "source": [
    "\"\"\"\n",
    "13. Make a multilevel dictionary called life.\n",
    "    Use these strings for the topmost keys: 'animals', 'plants', and 'other'. \n",
    "    Make the 'animals' key refer to another dictionary with the keys 'cats', 'octopi', and 'emus'. \n",
    "    Make the 'cats' key refer to a list of strings with the values 'Henri', 'Grumpy', and 'Lucy'. \n",
    "    Make all the other keys refer to empty dictionaries.\n",
    "\"\"\"\n",
    "\"\"\"\n",
    "13.Answer)\n",
    "    life={'animals':{'cats':['Henri', 'Grumpy', 'Lucy'], 'octopi':{},'emus':{}},'plants':{},'other':{}}\n",
    "\"\"\"\n",
    "life={'animals':{'cats':['Henri', 'Grumpy', 'Lucy'], 'octopi':{},'emus':{}},'plants':{},'other':{}}\n"
   ]
  },
  {
   "cell_type": "code",
   "execution_count": 17,
   "id": "c38881d2",
   "metadata": {},
   "outputs": [
    {
     "name": "stdout",
     "output_type": "stream",
     "text": [
      "animals\n",
      "plants\n",
      "other\n"
     ]
    }
   ],
   "source": [
    "\"\"\"\n",
    "14. Print the top-level keys of life.\n",
    "\"\"\"\n",
    "\"\"\"\n",
    "14.Answer)\n",
    "\"\"\"\n",
    "for i in life.keys():\n",
    "    print(i)"
   ]
  },
  {
   "cell_type": "code",
   "execution_count": 18,
   "id": "84dbbbaf",
   "metadata": {},
   "outputs": [
    {
     "name": "stdout",
     "output_type": "stream",
     "text": [
      "cats\n",
      "octopi\n",
      "emus\n"
     ]
    }
   ],
   "source": [
    "\"\"\"\n",
    "15. Print the keys for life['animals'].\n",
    "\"\"\"\n",
    "\"\"\"\n",
    "15.Answer)\n",
    "\"\"\"\n",
    "for i in life['animals'].keys():\n",
    "    print(i)\n"
   ]
  },
  {
   "cell_type": "code",
   "execution_count": 19,
   "id": "5d4fe969",
   "metadata": {},
   "outputs": [
    {
     "name": "stdout",
     "output_type": "stream",
     "text": [
      "Henri\n",
      "Grumpy\n",
      "Lucy\n"
     ]
    }
   ],
   "source": [
    "\"\"\"\n",
    "16. Print the values for life['animals']['cats']\n",
    "\"\"\"\n",
    "\"\"\"\n",
    "16.Answer)\n",
    "\"\"\"\n",
    "for i in life['animals']['cats']:\n",
    "    print(i)"
   ]
  }
 ],
 "metadata": {
  "kernelspec": {
   "display_name": "Python 3 (ipykernel)",
   "language": "python",
   "name": "python3"
  },
  "language_info": {
   "codemirror_mode": {
    "name": "ipython",
    "version": 3
   },
   "file_extension": ".py",
   "mimetype": "text/x-python",
   "name": "python",
   "nbconvert_exporter": "python",
   "pygments_lexer": "ipython3",
   "version": "3.8.12"
  }
 },
 "nbformat": 4,
 "nbformat_minor": 5
}
