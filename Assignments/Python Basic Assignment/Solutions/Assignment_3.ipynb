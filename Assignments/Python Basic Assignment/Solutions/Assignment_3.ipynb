{
 "cells": [
  {
   "cell_type": "markdown",
   "id": "b575ca6f",
   "metadata": {},
   "source": [
    "1. Why are functions advantageous to have in your programs?\n",
    "2. When does the code in a function run: when it's specified or when it's called?\n",
    "3. What statement creates a function?\n",
    "4. What is the difference between a function and a function call?\n",
    "5. How many global scopes are there in a Python program? How many local scopes?\n",
    "6. What happens to variables in a local scope when the function call returns?\n",
    "7. What is the concept of a return value? Is it possible to have a return value in an expression?\n",
    "8. If a function does not have a return statement, what is the return value of a call to that function?\n",
    "9. How do you make a function variable refer to the global variable?\n",
    "10. What is the data type of None?\n",
    "11. What does the sentence import areallyourpetsnamederic do?\n",
    "12. If you had a bacon() feature in a spam module, what would you call it after importing spam?\n",
    "13. What can you do to save a programme from crashing if it encounters an error?\n",
    "14. What is the purpose of the try clause? What is the purpose of the except clause?\n"
   ]
  },
  {
   "cell_type": "code",
   "execution_count": null,
   "id": "20f35ca8",
   "metadata": {},
   "outputs": [],
   "source": [
    "\"\"\"\n",
    "1. Why are functions advantageous to have in your programs?\n",
    "\"\"\"\n",
    "\"\"\"\n",
    "1.Answer)\n",
    "   The advantages of using functions are:\n",
    "    1.Reduce code duplication and improve code reusablity.\n",
    "    2.Makes problem simpler and improves code clarity.\n",
    "    3.Also acts as abstraction for underlying logic.\n",
    "\"\"\""
   ]
  },
  {
   "cell_type": "code",
   "execution_count": null,
   "id": "e76ed4d2",
   "metadata": {},
   "outputs": [],
   "source": [
    "\"\"\"\n",
    "2. When does the code in a function run: when it's specified or when it's called?\n",
    "\"\"\"\n",
    "\n",
    "\"\"\"\n",
    "2.Answer) The code a function runs when it's called.\n",
    "\"\"\""
   ]
  },
  {
   "cell_type": "code",
   "execution_count": null,
   "id": "0625e34a",
   "metadata": {},
   "outputs": [],
   "source": [
    "\"\"\"\n",
    "3. What statement creates a function?\n",
    "\"\"\"\n",
    "\"\"\"\n",
    "3.Answer) statement def function_name creates a function.\n",
    "eg: def Cubes(a):\n",
    "        return a**3\n",
    "\"\"\""
   ]
  },
  {
   "cell_type": "code",
   "execution_count": null,
   "id": "ec7e3d93",
   "metadata": {},
   "outputs": [],
   "source": [
    "\"\"\"\n",
    "4. What is the difference between a function and a function call?\n",
    "\"\"\"\n",
    "\"\"\"\n",
    "4.Answer) \n",
    " A function is procedure to achieve a particular result \n",
    " while function call is using this function to achive that task. A function call means invoking or calling that function\n",
    "\"\"\""
   ]
  },
  {
   "cell_type": "code",
   "execution_count": null,
   "id": "40f315c8",
   "metadata": {},
   "outputs": [],
   "source": [
    "\"\"\"\n",
    "5.How many global scopes are there in a Python program? How many local scopes?\n",
    "\"\"\"\n",
    "\"\"\"\n",
    "5.Answer)\n",
    "There are mainly 4 scopes—the local (L), then the enclosing(E), then the global (G), and then the built-in (B).\n",
    "There is only 1 global scope\n",
    "Each call to a function is a new local scope. So there can be multiple local scopes\n",
    "\"\"\""
   ]
  },
  {
   "cell_type": "code",
   "execution_count": 1,
   "id": "25085b95",
   "metadata": {},
   "outputs": [
    {
     "data": {
      "text/plain": [
       "''"
      ]
     },
     "execution_count": 1,
     "metadata": {},
     "output_type": "execute_result"
    }
   ],
   "source": [
    "\"\"\"\n",
    "6. What happens to variables in a local scope when the function call returns?\n",
    "\"\"\"\n",
    "\n",
    "\"\"\"\n",
    "6.Answer) They are destroyed\n",
    "\"\"\""
   ]
  },
  {
   "cell_type": "code",
   "execution_count": null,
   "id": "720e95e1",
   "metadata": {},
   "outputs": [],
   "source": [
    "\"\"\"\n",
    "7. What is the concept of a return value? Is it possible to have a return value in an expression?\n",
    "\"\"\"\n",
    "\n",
    "\"\"\"\n",
    "7.Answer) \n",
    "   The return value is the result of the function which is invoked.\n",
    "   Yes it is possible for an expression to use a return value but the function \n",
    "   which is invoked in the expression should explicitly return a value\n",
    "\"\"\""
   ]
  },
  {
   "cell_type": "code",
   "execution_count": 3,
   "id": "0f0facf1",
   "metadata": {},
   "outputs": [
    {
     "data": {
      "text/plain": [
       "''"
      ]
     },
     "execution_count": 3,
     "metadata": {},
     "output_type": "execute_result"
    }
   ],
   "source": [
    "\"\"\"\n",
    "8. If a function does not have a return statement, what is the return value of a call to that function?\n",
    "\"\"\"\n",
    "\n",
    "\"\"\"\n",
    "8.Answer) If a function does not have a return statement, the return value of a call to that function is None\n",
    "\"\"\""
   ]
  },
  {
   "cell_type": "code",
   "execution_count": null,
   "id": "f1475e91",
   "metadata": {},
   "outputs": [],
   "source": [
    "\"\"\"\n",
    "9. How do you make a function variable refer to the global variable?\n",
    "\"\"\"\n",
    "\"\"\"\n",
    "9.Answer) using Global keyword\n",
    "\"\"\""
   ]
  },
  {
   "cell_type": "code",
   "execution_count": null,
   "id": "f336f1dd",
   "metadata": {},
   "outputs": [],
   "source": [
    "\"\"\"\n",
    "10. What is the data type of None?\n",
    "\n",
    "\"\"\"\n",
    "\"\"\"\n",
    "10.Answer)\n",
    "    The None keyword is used to define a null value, or no value at all. None is a data type of NoneType\n",
    "\"\"\""
   ]
  },
  {
   "cell_type": "code",
   "execution_count": null,
   "id": "db833472",
   "metadata": {},
   "outputs": [],
   "source": [
    "\"\"\"\n",
    "11. What does the sentence import areallyourpetsnamederic do?\n",
    "\"\"\"\n",
    "\"\"\"\n",
    "11.Answer) \n",
    "    The above sentence imports module reallyourpetsnamederic into python script\n",
    "\"\"\""
   ]
  },
  {
   "cell_type": "code",
   "execution_count": null,
   "id": "e38b63b9",
   "metadata": {},
   "outputs": [],
   "source": [
    "\"\"\"\n",
    "12. If you had a bacon() feature in a spam module, what would you call it after importing spam?\n",
    "\"\"\"\n",
    "\"\"\"\n",
    "12.Answer) \n",
    "     import spam\n",
    "     spam.bacon()\n",
    "\"\"\""
   ]
  },
  {
   "cell_type": "code",
   "execution_count": null,
   "id": "1ea7eaa0",
   "metadata": {},
   "outputs": [],
   "source": [
    "\"\"\"\n",
    "13. What can you do to save a programme from crashing if it encounters an error?\n",
    "\"\"\"\n",
    "\"\"\"\n",
    "13.Answer)\n",
    "    To save the programee from crashing when it encounters an error we need to handle the error using error handling mechanism\n",
    "    in Python i.e using try except blocks and handle the exception in except block to exit the programme with out crashing.\n",
    "\"\"\""
   ]
  },
  {
   "cell_type": "code",
   "execution_count": null,
   "id": "bf27b5a2",
   "metadata": {},
   "outputs": [],
   "source": [
    "\"\"\"\n",
    "14. What is the purpose of the try clause? What is the purpose of the except clause?\n",
    "\"\"\"\n",
    "\"\"\"\n",
    "14.Answer) \n",
    "    The purpose of try clause is to make sure that if any exception occurs in the block of code under try clause then\n",
    "    redirect it to respective except block based on the type of exception\n",
    "    \n",
    "    The purpose of except clause is to handle to exception with is thrown from try block and take the neccesary action to \n",
    "    mitigate the exception or inform the programmer/user with the exception details\n",
    "\"\"\""
   ]
  }
 ],
 "metadata": {
  "celltoolbar": "Raw Cell Format",
  "kernelspec": {
   "display_name": "Python 3",
   "language": "python",
   "name": "python3"
  },
  "language_info": {
   "codemirror_mode": {
    "name": "ipython",
    "version": 3
   },
   "file_extension": ".py",
   "mimetype": "text/x-python",
   "name": "python",
   "nbconvert_exporter": "python",
   "pygments_lexer": "ipython3",
   "version": "3.8.8"
  }
 },
 "nbformat": 4,
 "nbformat_minor": 5
}
