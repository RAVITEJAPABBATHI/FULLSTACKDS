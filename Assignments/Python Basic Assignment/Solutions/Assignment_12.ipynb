{
 "cells": [
  {
   "cell_type": "markdown",
   "id": "35759ff6",
   "metadata": {},
   "source": [
    "1. In what modes should the PdfFileReader() and PdfFileWriter() File objects will be opened?\n",
    "2. From a PdfFileReader object, how do you get a Page object for page 5?\n",
    "3. What PdfFileReader variable stores the number of pages in the PDF document?\n",
    "4. If a PdfFileReader object’s PDF is encrypted with the password swordfish, what must you do before you can obtain Pageobjects from it?\n",
    "5. What methods do you use to rotate a page?\n",
    "6. What is the difference between a Run object and a Paragraph object?\n",
    "7. How do you obtain a list of Paragraph objects for a Document object that’s stored in a variable named doc?\n",
    "8. What type of object has bold, underline, italic, strike, and outline variables?\n",
    "9. What is the difference between False, True, and None for the bold variable?\n",
    "10. How do you create a Document object for a new Word document?\n",
    "11. How do you add a paragraph with the text 'Hello, there!' to a Document object stored in a variable named doc?\n",
    "12. What integers represent the levels of headings available in Word documents?\n"
   ]
  },
  {
   "cell_type": "code",
   "execution_count": null,
   "id": "31272ec4",
   "metadata": {},
   "outputs": [],
   "source": [
    "\"\"\"\n",
    "1. In what modes should the PdfFileReader() and PdfFileWriter() File objects will be opened?\n",
    "\"\"\"\n",
    "\"\"\"\n",
    "1.Answer) The PdfFileReader() and PdfFileWriter file objects will be opened in binary format.\n",
    "    Read-binary ('rb') for PdfFileReader() and write-binary ('wb') for PdfFileWriter()\n",
    "\"\"\""
   ]
  },
  {
   "cell_type": "code",
   "execution_count": null,
   "id": "31b9e352",
   "metadata": {},
   "outputs": [],
   "source": [
    "\"\"\"\n",
    "2. From a PdfFileReader object, how do you get a Page object for page 5?\n",
    "\"\"\"\n",
    "\"\"\"\n",
    "2.Answer) Using getPage(5) method from the PdfFileReader Object as below\n",
    "\"\"\"\n",
    "from PyPDF2 import PdfFileReader\n",
    "file=open(\"F:\\Test\\MergedFile2.pdf\",'rb')\n",
    "page=PdfFileReader(file).getPage(5)"
   ]
  },
  {
   "cell_type": "code",
   "execution_count": null,
   "id": "ded4d6fe",
   "metadata": {},
   "outputs": [],
   "source": [
    "\"\"\"\n",
    "3. What PdfFileReader variable stores the number of pages in the PDF document?\n",
    "\"\"\"\n",
    "\"\"\"\n",
    "3.Answer)\n",
    "    The total number of pages in the document are stored in the numPages attribute\n",
    "    of a PdfFileReader object\n",
    "\"\"\""
   ]
  },
  {
   "cell_type": "code",
   "execution_count": null,
   "id": "f6d83322",
   "metadata": {},
   "outputs": [],
   "source": [
    "\"\"\"\n",
    "4. If a PdfFileReader object’s PDF is encrypted with the password swordfish, \n",
    "what must you do before you can obtain Page objects from it?\n",
    "\"\"\"\n",
    "\"\"\"\n",
    "4.Answer) To obtain Page objects from an encrypted PDF we need to decrypt it by using\n",
    "        decrypt('swordfish')\n",
    "\"\"\""
   ]
  },
  {
   "cell_type": "code",
   "execution_count": null,
   "id": "db468a07",
   "metadata": {},
   "outputs": [],
   "source": [
    "\"\"\"\n",
    "5. What methods do you use to rotate a page?\n",
    "\"\"\"\n",
    "\"\"\"\n",
    "5.Answer) page.rotateClockwise() ,page.rotateCounterClockwise() are the methods used to \n",
    "        rotate a page\n",
    "\"\"\"\n"
   ]
  },
  {
   "cell_type": "markdown",
   "id": "f5d0b3b4",
   "metadata": {},
   "source": [
    "#!pip install Python-docx\n",
    "#import docx\n",
    "\n",
    "\"\"\"\n",
    "document=docx.Document(\"F:\\Test\\One.docx\")\n",
    "document.paragraphs\n",
    "for i in document.paragraphs[0].runs:\n",
    "    print(i.text)\n",
    "\"\"\""
   ]
  },
  {
   "cell_type": "code",
   "execution_count": null,
   "id": "0b81d10f",
   "metadata": {},
   "outputs": [],
   "source": [
    "\"\"\"\n",
    "6. What is the difference between a Run object and a Paragraph object?\n",
    "\"\"\"\n",
    "\"\"\"\n",
    "6.Answer)\n",
    "\n",
    "    A Paragraph object contains text attribute that contains a string of the text in that paragraph \n",
    "    (without the style information). It also has run attribute which can have multiple run objects.\n",
    "    \n",
    "    A Run object also has text attribute, containing just the text in that particular run. \n",
    "    A run is the object most closely associated with inline content; text, pictures, and \n",
    "    other items that are flowed between the block-item boundaries within a paragraph\n",
    "\n",
    "\"\"\""
   ]
  },
  {
   "cell_type": "code",
   "execution_count": null,
   "id": "ef5bd08e",
   "metadata": {},
   "outputs": [],
   "source": [
    "\"\"\"\n",
    "7. How do you obtain a list of Paragraph objects for a Document object that’s stored in a variable named doc?\n",
    "\"\"\"\n",
    "\n",
    "\"\"\"\n",
    "7.Answer)doc.paragraphs\n",
    "\n",
    "\"\"\"\n"
   ]
  },
  {
   "cell_type": "code",
   "execution_count": null,
   "id": "4cbe7c5d",
   "metadata": {},
   "outputs": [],
   "source": [
    "\"\"\"\n",
    "8. What type of object has bold, underline, italic, strike, and outline variables?\n",
    "\"\"\"\n",
    "\n",
    "\"\"\"\n",
    "8.Answer) A Run object has this variables\n",
    "\"\"\"\n"
   ]
  },
  {
   "cell_type": "code",
   "execution_count": null,
   "id": "cbef6ebc",
   "metadata": {},
   "outputs": [],
   "source": [
    "\"\"\"\n",
    "9. What is the difference between False, True, and None for the bold variable?\n",
    "\"\"\"\n",
    "\"\"\"\n",
    "9.Answer)\n",
    "    True always makes the Run object bolded and False makes it always not bolded, no matter what the style's bold setting is. \n",
    "    None will make the Run object just use the style's bold setting.\n",
    "\"\"\""
   ]
  },
  {
   "cell_type": "code",
   "execution_count": null,
   "id": "6f434043",
   "metadata": {},
   "outputs": [],
   "source": [
    "\"\"\"\n",
    "10. How do you create a Document object for a new Word document?\n",
    "\"\"\"\n",
    "\"\"\"\n",
    "10.Answer)Call the docx.Document() function. \n",
    "\"\"\"\n",
    "#Example\n",
    "docnew=docx.Document()\n",
    "docnew.add_paragraph('This is paragraph 1')\n",
    "docnew.save(r\"F:\\Test\\newdoc.docx\")"
   ]
  },
  {
   "cell_type": "code",
   "execution_count": null,
   "id": "2c8e42f8",
   "metadata": {},
   "outputs": [],
   "source": [
    "\"\"\"\n",
    "11. How do you add a paragraph with the text 'Hello, there!' to a Document object stored in a variable named doc?\n",
    "\"\"\"\n",
    "\"\"\"\n",
    "11.Answer) \n",
    "    doc.add_paragraph('Hello, there!')\n",
    "\n",
    "\"\"\""
   ]
  },
  {
   "cell_type": "code",
   "execution_count": null,
   "id": "7e3e3b5f",
   "metadata": {},
   "outputs": [],
   "source": [
    "\"\"\"\n",
    "12. What integers represent the levels of headings available in Word documents?\n",
    "\"\"\"\n",
    "\"\"\"\n",
    "12.Answer) The integers 0,1,2,3, and 4\n",
    "\"\"\""
   ]
  }
 ],
 "metadata": {
  "kernelspec": {
   "display_name": "Python 3 (ipykernel)",
   "language": "python",
   "name": "python3"
  },
  "language_info": {
   "codemirror_mode": {
    "name": "ipython",
    "version": 3
   },
   "file_extension": ".py",
   "mimetype": "text/x-python",
   "name": "python",
   "nbconvert_exporter": "python",
   "pygments_lexer": "ipython3",
   "version": "3.8.12"
  }
 },
 "nbformat": 4,
 "nbformat_minor": 5
}
