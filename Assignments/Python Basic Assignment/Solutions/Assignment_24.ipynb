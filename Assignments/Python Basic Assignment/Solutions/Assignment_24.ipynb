{
 "cells": [
  {
   "cell_type": "code",
   "execution_count": null,
   "id": "2fe7a206",
   "metadata": {},
   "outputs": [],
   "source": [
    "\"\"\"\n",
    "1. What is the relationship between def statements and lambda expressions ?\n",
    "2. What is the benefit of lambda?\n",
    "3. Compare and contrast map, filter, and reduce.\n",
    "4. What are function annotations, and how are they used?\n",
    "5. What are recursive functions, and how are they used?\n",
    "6. What are some general design guidelines for coding functions?\n",
    "7. Name three or more ways that functions can communicate results to a caller.\n",
    "\"\"\""
   ]
  },
  {
   "cell_type": "code",
   "execution_count": null,
   "id": "6994ca23",
   "metadata": {},
   "outputs": [],
   "source": [
    "\"\"\"\n",
    "1. What is the relationship between def statements and lambda expressions ?\n",
    "\"\"\"\n",
    "\"\"\"\n",
    "1.Answer)\n",
    "\n",
    "Lambda functions can only have one expression in their body.\n",
    "Lambdas do not have a name associated with them. That’s why they are also known as anonymous functions.\n",
    "\n",
    "def functions can have multiple expressions and statements in their body.\n",
    "\n",
    "\n",
    "\"\"\""
   ]
  },
  {
   "cell_type": "code",
   "execution_count": null,
   "id": "e0edae1e",
   "metadata": {},
   "outputs": [],
   "source": [
    "\"\"\"\n",
    "2. What is the benefit of lambda?\n",
    "\"\"\"\n",
    "\"\"\"\n",
    "2.Answer) \n",
    "    1. Fewer Lines of Code\n",
    "    2.Can be easily defined inline \n",
    "    3.A lambda is part of a very important abstraction mechanism which deals with higher order functions. \n",
    "\"\"\""
   ]
  },
  {
   "cell_type": "code",
   "execution_count": 6,
   "id": "d02b59ca",
   "metadata": {},
   "outputs": [
    {
     "name": "stdout",
     "output_type": "stream",
     "text": [
      "[1, 4, 9, 16, 25, 36] --map\n",
      "[2, 4, 6] --filter\n",
      "21 --reduce\n"
     ]
    }
   ],
   "source": [
    "\"\"\"\n",
    "3. Compare and contrast map, filter, and reduce.\n",
    "\"\"\"\n",
    "\"\"\"\n",
    "3.Answer)\n",
    "map(): The map() function iterates through all items in the given iterable and executes the function we passed as an \n",
    "        argument on each of them.\n",
    "filter():filter() forms a new list that contains only elements that satisfy a certain condition\n",
    "reduce(): reduce() works differently than map() and filter(). It does not return a new list based on the function \n",
    "            and iterable we've passed. Instead, it returns a single value. It is available in functools\n",
    "            \n",
    "Below are examples:\n",
    "\"\"\"\n",
    "#map example\n",
    "items=[1,2,3,4,5,6]\n",
    "\n",
    "def square(a):\n",
    "    return a**2\n",
    "print(list(map(square,items)),'--map')\n",
    "#[1, 4, 9, 16, 25, 36] is result\n",
    "\n",
    "\n",
    "#filter example -only even\n",
    "\n",
    "def even(a):\n",
    "    if a%2==0:\n",
    "        return True\n",
    "    else:\n",
    "        return False\n",
    "print(list(filter(even,items)),'--filter')\n",
    "\n",
    "# [2, 4, 6] is result\n",
    "\n",
    "\n",
    "# reduce example\n",
    "\n",
    "def sum(a,b):\n",
    "    return a+b\n",
    "\n",
    "from functools import reduce\n",
    "\n",
    "print(reduce(sum,items),'--reduce')\n",
    "#21 --reduce"
   ]
  },
  {
   "cell_type": "code",
   "execution_count": 11,
   "id": "f0da147b",
   "metadata": {},
   "outputs": [
    {
     "name": "stdout",
     "output_type": "stream",
     "text": [
      "{'radius': <class 'float'>, 'return': <class 'float'>}\n"
     ]
    },
    {
     "data": {
      "text/plain": [
       "18.84955592153876"
      ]
     },
     "execution_count": 11,
     "metadata": {},
     "output_type": "execute_result"
    }
   ],
   "source": [
    "\"\"\"\n",
    "4. What are function annotations, and how are they used?\n",
    "\"\"\"\n",
    "\"\"\"\n",
    "4.Answer)\n",
    "    Function annotations  adds a feature that allows you to add arbitrary metadata to function parameters and return value.\n",
    "    The primary purpose was to have a standard way to link metadata to function parameters and return value.\n",
    "    Example is provided below\n",
    "\"\"\"\n",
    "import math\n",
    "\n",
    "def circumference(radius: float) -> float:\n",
    "    return 2 * math.pi * radius\n",
    "\n",
    "\n",
    "print(circumference.__annotations__)\n",
    "\n",
    "circumference(3)\n"
   ]
  },
  {
   "cell_type": "code",
   "execution_count": 12,
   "id": "b218a34c",
   "metadata": {},
   "outputs": [
    {
     "data": {
      "text/plain": [
       "120"
      ]
     },
     "execution_count": 12,
     "metadata": {},
     "output_type": "execute_result"
    }
   ],
   "source": [
    "\"\"\"\n",
    "5. What are recursive functions, and how are they used?\n",
    "\"\"\"\n",
    "\"\"\"\n",
    "5.Answer)  A recursive function is a function that calls itself during its execution.\n",
    "\"\"\"\n",
    "def fact(n):\n",
    "    result=n\n",
    "    if n!=1:\n",
    "        result*=fact(n-1)\n",
    "    return result\n",
    "fact(5)"
   ]
  },
  {
   "cell_type": "code",
   "execution_count": null,
   "id": "90ee5ae2",
   "metadata": {},
   "outputs": [],
   "source": [
    "\"\"\"\n",
    "6. What are some general design guidelines for coding functions?\n",
    "\"\"\"\n",
    "\"\"\"\n",
    "6.Answer)\n",
    "    1.Documentation(docstrings) should be provided for each function/method \n",
    "    2.Don’t Repeat the same function logic. If the function is used across the multiple files place it in a seperate file\n",
    "      and refer is across.\n",
    "\"\"\""
   ]
  },
  {
   "cell_type": "code",
   "execution_count": 20,
   "id": "560480d0",
   "metadata": {},
   "outputs": [
    {
     "name": "stdout",
     "output_type": "stream",
     "text": [
      "result1: 125\n",
      "result2: [1, 2, 3, 64]\n",
      "result3: 1\n"
     ]
    }
   ],
   "source": [
    "\"\"\"\n",
    "7. Name three or more ways that functions can communicate results to a caller.\n",
    "\"\"\"\n",
    "\n",
    "#using return\n",
    "def cube1(a):\n",
    "    return a**3\n",
    "result1=cube1(5)\n",
    "print('result1:',result1)\n",
    "\n",
    "#using reference\n",
    "result2=[1,2,3]\n",
    "def cube2(result):\n",
    "    result.append(4**3)\n",
    "\n",
    "cube2(result2)\n",
    "print('result2:',result2)\n",
    "\n",
    "#using generator\n",
    "def cube_gen():\n",
    "    for i in range(1,101):\n",
    "        yield i**3\n",
    "result3=iter(cube_gen())\n",
    "print('result3:',next(result3))"
   ]
  }
 ],
 "metadata": {
  "kernelspec": {
   "display_name": "Python 3 (ipykernel)",
   "language": "python",
   "name": "python3"
  },
  "language_info": {
   "codemirror_mode": {
    "name": "ipython",
    "version": 3
   },
   "file_extension": ".py",
   "mimetype": "text/x-python",
   "name": "python",
   "nbconvert_exporter": "python",
   "pygments_lexer": "ipython3",
   "version": "3.8.12"
  }
 },
 "nbformat": 4,
 "nbformat_minor": 5
}
