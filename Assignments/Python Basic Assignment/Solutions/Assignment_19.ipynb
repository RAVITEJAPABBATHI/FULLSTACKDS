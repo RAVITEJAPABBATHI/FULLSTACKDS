{
 "cells": [
  {
   "cell_type": "code",
   "execution_count": null,
   "id": "c41dd162",
   "metadata": {},
   "outputs": [],
   "source": [
    "1. Make a class called Thing with no contents and print it. Then, create an object called example\n",
    "    from this class and also print it. Are the printed values the same or different?\n",
    "2. Create a new class called Thing2 and add the value 'abc' to the letters class attribute. \n",
    "    Letters should be printed.\n",
    "3. Make yet another class called, of course, Thing3. This time, assign the value 'xyz' to an\n",
    "    instance (object) attribute called letters. Print letters. Do you need to make an object \n",
    "    from the class to do this?\n",
    "4. Create an Element class with the instance attributes name, symbol, and number. \n",
    "    Create a class object with the values 'Hydrogen,' 'H,' and 1.\n",
    "5. Make a dictionary with these keys and values: 'name': 'Hydrogen', 'symbol': 'H', 'number': 1. \n",
    "    Then, create an object called hydrogen from class Element using this dictionary.\n",
    "6. For the Element class, define a method called dump() that prints the values of the object’s\n",
    "    attributes (name, symbol, and number). Create the hydrogen object from this new definition \n",
    "    and use dump() to print its attributes.\n",
    "7. Call print(hydrogen). In the definition of Element, change the name of method dump to __str__, \n",
    "    create a new hydrogen object, and call print(hydrogen) again.\n",
    "8. Modify Element to make the attributes name, symbol, and number private. \n",
    "    Define a getter property for each to return its value.\n",
    "9. Define three classes: Bear, Rabbit, and Octothorpe. For each, define only one method: eats(). \n",
    "    This should return 'berries' (Bear), 'clover' (Rabbit), or 'campers' (Octothorpe). \n",
    "    Create one object from each and print what it eats.\n",
    "10. Define these classes: Laser, Claw, and SmartPhone. Each has only one method: does().\n",
    "    This returns 'disintegrate' (Laser), 'crush' (Claw), or 'ring' (SmartPhone). \n",
    "    Then, define the class Robot that has one instance (object) of each of these. \n",
    "    Define a does() method for the Robot that prints what its component objects do.\n"
   ]
  },
  {
   "cell_type": "code",
   "execution_count": 4,
   "id": "d9eeb7d1",
   "metadata": {},
   "outputs": [
    {
     "name": "stdout",
     "output_type": "stream",
     "text": [
      "<class '__main__.Thing'>\n",
      "<__main__.Thing object at 0x000001F0B1EDD9D0>\n"
     ]
    }
   ],
   "source": [
    "\"\"\"\n",
    "1. Make a class called Thing with no contents and print it. Then, create an object called example\n",
    "    from this class and also print it. Are the printed values the same or different?\n",
    "\"\"\"\n",
    "\"\"\"\n",
    "1.Answer) The printed values are different as below.\n",
    "\"\"\"\n",
    "class Thing:\n",
    "    pass\n",
    "\n",
    "print(Thing)\n",
    "\n",
    "example=Thing()\n",
    "print(example)"
   ]
  },
  {
   "cell_type": "code",
   "execution_count": 5,
   "id": "549a994a",
   "metadata": {},
   "outputs": [
    {
     "name": "stdout",
     "output_type": "stream",
     "text": [
      "abc\n"
     ]
    }
   ],
   "source": [
    "\"\"\"\n",
    "2. Create a new class called Thing2 and add the value 'abc' to the letters class attribute. \n",
    "    Letters should be printed.\n",
    "\"\"\"\n",
    "\"\"\"\n",
    "2.Answer)\n",
    "\"\"\"\n",
    "class Thing2:\n",
    "    letters='abc'\n",
    "print(Thing2.letters)"
   ]
  },
  {
   "cell_type": "code",
   "execution_count": 6,
   "id": "d29d5d49",
   "metadata": {},
   "outputs": [
    {
     "name": "stdout",
     "output_type": "stream",
     "text": [
      "xyz\n"
     ]
    }
   ],
   "source": [
    "\"\"\"\n",
    "3. Make yet another class called, of course, Thing3. This time, assign the value 'xyz' to an\n",
    "    instance (object) attribute called letters. Print letters. Do you need to make an object \n",
    "    from the class to do this?\n",
    "\"\"\"\n",
    "\"\"\"\n",
    "3.Answer)\n",
    "    Yes we need make an object from the class to do the below\n",
    "\"\"\"\n",
    "class Thing3:\n",
    "    def __init__(self,letters):\n",
    "        self.letters=letters\n",
    "\n",
    "obj=Thing3('xyz')\n",
    "print(obj.letters)"
   ]
  },
  {
   "cell_type": "code",
   "execution_count": 7,
   "id": "bfebae5d",
   "metadata": {},
   "outputs": [],
   "source": [
    "\"\"\"\n",
    "4. Create an Element class with the instance attributes name, symbol, and number. \n",
    "    Create a class object with the values 'Hydrogen,' 'H,' and 1.\n",
    "\"\"\"\n",
    "\"\"\"\n",
    "4.Answer)\n",
    "\"\"\"\n",
    "class Element:\n",
    "    def __init__(self,name,symbol,number):\n",
    "        self.name=name\n",
    "        self.symbol=symbol\n",
    "        self.number=number\n",
    "\n",
    "elementObj=Element('Hydrogen','H',1)"
   ]
  },
  {
   "cell_type": "code",
   "execution_count": 8,
   "id": "11ce3d53",
   "metadata": {},
   "outputs": [],
   "source": [
    "\"\"\"\n",
    "5. Make a dictionary with these keys and values: 'name': 'Hydrogen', 'symbol': 'H', 'number': 1. \n",
    "    Then, create an object called hydrogen from class Element using this dictionary.\n",
    "\"\"\"\n",
    "\"\"\"\n",
    "5.Answer) \n",
    "\"\"\"\n",
    "hydrogenDict={'name': 'Hydrogen', 'symbol': 'H', 'number': 1}\n",
    "\n",
    "hydrogen=Element(hydrogenDict['name'],hydrogenDict['symbol'],hydrogenDict['number'])"
   ]
  },
  {
   "cell_type": "code",
   "execution_count": 9,
   "id": "5151c4c4",
   "metadata": {},
   "outputs": [
    {
     "name": "stdout",
     "output_type": "stream",
     "text": [
      "name:Hydrogen,symbol:H,number:1\n"
     ]
    }
   ],
   "source": [
    "\"\"\"\n",
    "6. For the Element class, define a method called dump() that prints the values of the object’s\n",
    "    attributes (name, symbol, and number). Create the hydrogen object from this new definition \n",
    "    and use dump() to print its attributes.\n",
    "\"\"\"\n",
    "\"\"\"\n",
    "6.Answer)\n",
    "\"\"\"\n",
    "class Element:\n",
    "    def __init__(self,name,symbol,number):\n",
    "        self.name=name\n",
    "        self.symbol=symbol\n",
    "        self.number=number\n",
    "    \n",
    "    def dump(self):\n",
    "        print(f'name:{self.name},symbol:{self.symbol},number:{self.number}')\n",
    "hydrogen=Element('Hydrogen','H',1)\n",
    "hydrogen.dump()"
   ]
  },
  {
   "cell_type": "code",
   "execution_count": 11,
   "id": "248817c4",
   "metadata": {},
   "outputs": [
    {
     "name": "stdout",
     "output_type": "stream",
     "text": [
      "name:Hydrogen,symbol:H,number:1\n"
     ]
    }
   ],
   "source": [
    "\"\"\"\n",
    "7. Call print(hydrogen). In the definition of Element, change the name of method dump to __str__, \n",
    "    create a new hydrogen object, and call print(hydrogen) again.\n",
    "\"\"\"\n",
    "\"\"\"\n",
    "7.Answer)\n",
    "\"\"\"\n",
    "\n",
    "class Element:\n",
    "    def __init__(self,name,symbol,number):\n",
    "        self.name=name\n",
    "        self.symbol=symbol\n",
    "        self.number=number\n",
    "    \n",
    "    def __str__(self):\n",
    "        return f'name:{self.name},symbol:{self.symbol},number:{self.number}'\n",
    "        \n",
    "hydrogen=Element('Hydrogen','H',1)\n",
    "print(hydrogen)"
   ]
  },
  {
   "cell_type": "code",
   "execution_count": 15,
   "id": "4af2af8a",
   "metadata": {},
   "outputs": [
    {
     "name": "stdout",
     "output_type": "stream",
     "text": [
      "Hydrogen\n"
     ]
    }
   ],
   "source": [
    "\"\"\"\n",
    "8. Modify Element to make the attributes name, symbol, and number private. \n",
    "    Define a getter property for each to return its value.\n",
    "\"\"\"\n",
    "\"\"\"\n",
    "8.Answer)\n",
    "\"\"\"\n",
    "\n",
    "class Element:\n",
    "    def __init__(self,name,symbol,number):\n",
    "        self.__name=name\n",
    "        self.__symbol=symbol\n",
    "        self.__number=number\n",
    "    @property\n",
    "    def name(self):\n",
    "        return self.__name\n",
    "    \n",
    "    @property\n",
    "    def symbol(self):\n",
    "        return self.__symbol\n",
    "    \n",
    "    @property\n",
    "    def number(self):\n",
    "        return self.__number\n",
    "    \n",
    "hydrogen=Element('Hydrogen','H',1)\n",
    "print(hydrogen.name)"
   ]
  },
  {
   "cell_type": "code",
   "execution_count": 17,
   "id": "0ad23183",
   "metadata": {},
   "outputs": [
    {
     "name": "stdout",
     "output_type": "stream",
     "text": [
      "berries\n",
      "clover\n",
      "campers\n"
     ]
    }
   ],
   "source": [
    "\"\"\"\n",
    "9. Define three classes: Bear, Rabbit, and Octothorpe. For each, define only one method: eats(). \n",
    "    This should return 'berries' (Bear), 'clover' (Rabbit), or 'campers' (Octothorpe). \n",
    "    Create one object from each and print what it eats.\n",
    "\"\"\"\n",
    "\"\"\"\n",
    "9.Answer)\n",
    "\"\"\"\n",
    "class Bear:\n",
    "    def eats(self):\n",
    "        return 'berries'\n",
    "class Rabbit:\n",
    "    def eats(self):\n",
    "        return 'clover'\n",
    "class Octothrope:\n",
    "    def eats(self):\n",
    "        return 'campers'\n",
    "\n",
    "bear=Bear()\n",
    "rabbit=Rabbit()\n",
    "octo=Octothrope()\n",
    "\n",
    "print(bear.eats())\n",
    "print(rabbit.eats())\n",
    "print(octo.eats())"
   ]
  },
  {
   "cell_type": "code",
   "execution_count": 25,
   "id": "269e956c",
   "metadata": {},
   "outputs": [
    {
     "name": "stdout",
     "output_type": "stream",
     "text": [
      "\n",
      "                Laser does disintegrate\n",
      "                Claw does crush\n",
      "                SmartPhone does ring\n",
      "                \n"
     ]
    }
   ],
   "source": [
    "\"\"\"\n",
    "10. Define these classes: Laser, Claw, and SmartPhone. Each has only one method: does().\n",
    "    This returns 'disintegrate' (Laser), 'crush' (Claw), or 'ring' (SmartPhone). \n",
    "    Then, define the class Robot that has one instance (object) of each of these. \n",
    "    Define a does() method for the Robot that prints what its component objects do.\n",
    "\"\"\"\n",
    "\"\"\"\n",
    "10.Answer)\n",
    "\"\"\"\n",
    "class Laser:\n",
    "    def does(self):\n",
    "        return 'disintegrate'\n",
    "class Claw:\n",
    "     def does(self):\n",
    "        return 'crush'\n",
    "class SmartPhone:\n",
    "     def does(self):\n",
    "        return 'ring'\n",
    "class Robot:\n",
    "    def __init__(self,laser,claw,smartphone):\n",
    "        self.laser=laser\n",
    "        self.claw=claw\n",
    "        self.smartphone=smartphone\n",
    "    def does(self):\n",
    "        return f\"\"\"\n",
    "                Laser does {self.laser.does()}\n",
    "                Claw does {self.claw.does()}\n",
    "                SmartPhone does {self.smartphone.does()}\n",
    "                \"\"\"\n",
    "   \n",
    "robot=Robot(Laser(),Claw(),SmartPhone())\n",
    "print(robot.does())"
   ]
  }
 ],
 "metadata": {
  "kernelspec": {
   "display_name": "Python 3 (ipykernel)",
   "language": "python",
   "name": "python3"
  },
  "language_info": {
   "codemirror_mode": {
    "name": "ipython",
    "version": 3
   },
   "file_extension": ".py",
   "mimetype": "text/x-python",
   "name": "python",
   "nbconvert_exporter": "python",
   "pygments_lexer": "ipython3",
   "version": "3.8.12"
  }
 },
 "nbformat": 4,
 "nbformat_minor": 5
}
