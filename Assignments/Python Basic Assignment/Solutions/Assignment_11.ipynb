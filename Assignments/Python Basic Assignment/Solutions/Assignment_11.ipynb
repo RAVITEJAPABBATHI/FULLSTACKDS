{
 "cells": [
  {
   "cell_type": "markdown",
   "id": "0eed067f",
   "metadata": {},
   "source": [
    "1. Create an assert statement that throws an AssertionError if the variable spam is a negative integer.\n",
    "2. Write an assert statement that triggers an AssertionError if the variables eggs and bacon contain strings that are the same as each other, even if their cases are different (that is, 'hello' and 'hello' are considered the same, and 'goodbye' and 'GOODbye' are also considered the same).\n",
    "3. Create an assert statement that throws an AssertionError every time.\n",
    "4. What are the two lines that must be present in your software in order to call logging.debug()?\n",
    "5. What are the two lines that your program must have in order to have logging.debug() send a logging message to a file named programLog.txt?\n",
    "6. What are the five levels of logging?\n",
    "7. What line of code would you add to your software to disable all logging messages\n",
    "8. Why is using logging messages better than using print() to display the same message?\n",
    "9. What are the differences between the Step Over, Step In, and Step Out buttons in the debugger?10.After you click Continue, when will the debugger stop ?\n",
    "11. What is the concept of a breakpoint?\n",
    "\n"
   ]
  },
  {
   "cell_type": "code",
   "execution_count": null,
   "id": "c85aea7e",
   "metadata": {},
   "outputs": [],
   "source": [
    "\"\"\"\n",
    "1. Create an assert statement that throws an AssertionError if the variable spam is a negative integer.\n",
    "\"\"\"\n",
    "#1.Answer)\n",
    "spam=-7\n",
    "assert spam >= 0, 'The spam variable is a negative number'"
   ]
  },
  {
   "cell_type": "code",
   "execution_count": null,
   "id": "7340eecd",
   "metadata": {},
   "outputs": [],
   "source": [
    "\"\"\"\n",
    "2. Write an assert statement that triggers an AssertionError if the variables eggs and bacon\n",
    "    contain strings that are the same as each other, even if their cases are different\n",
    "    (that is, 'hello' and 'hello' are considered the same, and 'goodbye' \n",
    "    and 'GOODbye' are also considered the same).\n",
    "\"\"\"\n",
    "#2.Answer)\n",
    "eggs='test'\n",
    "bacon='Tost'\n",
    "assert eggs.lower()==bacon.lower(), 'The variables eggs and bacon arer not same'"
   ]
  },
  {
   "cell_type": "code",
   "execution_count": null,
   "id": "b7cf60fd",
   "metadata": {},
   "outputs": [],
   "source": [
    "\"\"\"\n",
    "3. Create an assert statement that throws an AssertionError every time.\n",
    "\"\"\"\n",
    "#3.Answer)\n",
    "assert False,'Always error'"
   ]
  },
  {
   "cell_type": "code",
   "execution_count": null,
   "id": "9be28336",
   "metadata": {},
   "outputs": [],
   "source": [
    "\"\"\"\n",
    "4. What are the two lines that must be present in your software in order to call logging.debug()?\n",
    "\"\"\"\n",
    "#4.Answer)\n",
    "import logging\n",
    "logging.basicConfig(level=logging.DEBUG,format= '%(asctime)s %(levelname)s %(message)s')"
   ]
  },
  {
   "cell_type": "code",
   "execution_count": 4,
   "id": "f15a2ca8",
   "metadata": {},
   "outputs": [],
   "source": [
    "\"\"\"\n",
    "5.What are the two lines that your program must have in order to have logging.debug() \n",
    "send a logging message to a file named programLog.txt?\n",
    "\"\"\"\n",
    "#5.Answer)\n",
    "import logging\n",
    "logging.basicConfig(filename='programLog.txt',level=logging.DEBUG,format='%(asctime)s %(levelname)s %(message)s')"
   ]
  },
  {
   "cell_type": "code",
   "execution_count": null,
   "id": "df8263cf",
   "metadata": {},
   "outputs": [],
   "source": [
    "\"\"\"\n",
    "6.What are the five levels of logging?\n",
    "\"\"\"\n",
    "\"\"\"\n",
    "6.Answer)\n",
    "DEBUG, INFO, WARNING, ERROR, and CRITICAL\n",
    "\"\"\""
   ]
  },
  {
   "cell_type": "code",
   "execution_count": null,
   "id": "9aa3bd42",
   "metadata": {},
   "outputs": [],
   "source": [
    "\"\"\"\n",
    "7.What line of code would you add to your software to disable all logging messages?\n",
    "\"\"\"\n",
    "\"\"\"\n",
    "7.Answer)\n",
    " logging.disable(logging.CRITICAL)\n",
    "\"\"\""
   ]
  },
  {
   "cell_type": "code",
   "execution_count": null,
   "id": "c619b341",
   "metadata": {},
   "outputs": [],
   "source": [
    "\"\"\"\n",
    "8.Why is using logging messages better than using print() to display the same message?\n",
    "\"\"\"\n",
    "\"\"\"\n",
    "8.Answer\n",
    "    You can disable logging messages without code change or without removing the logging function calls.\n",
    "    You can disable lower-level logging messages. \n",
    "    Logging messages provides a timestamp.\n",
    "\"\"\""
   ]
  },
  {
   "cell_type": "code",
   "execution_count": null,
   "id": "598f3d58",
   "metadata": {},
   "outputs": [],
   "source": [
    "\"\"\"\n",
    "9.What are the differences between the Step Over, Step In, and Step Out buttons in the debugger?\n",
    "\"\"\"\n",
    "\"\"\"\n",
    "9.Answer)\n",
    "    The Step button will move the debugger into a function call.\n",
    "    The Over button will quickly execute the function call without stepping into it.\n",
    "    The Out button will quickly execute the rest of the code until it steps out of the function it currently is in.\n",
    "\"\"\""
   ]
  },
  {
   "cell_type": "code",
   "execution_count": null,
   "id": "51e68e8d",
   "metadata": {},
   "outputs": [],
   "source": [
    "\"\"\"\n",
    "10.After you click Continue, when will the debugger stop ?\n",
    "\"\"\"\n",
    "\"\"\"\n",
    "10.Answer)\n",
    "    After you click Go, the debugger will stop \n",
    "    when it has reached the end of the program or a line with a breakpoint.\n",
    "\"\"\""
   ]
  },
  {
   "cell_type": "code",
   "execution_count": null,
   "id": "21a2b167",
   "metadata": {},
   "outputs": [],
   "source": [
    "\"\"\"\n",
    "11.What is the concept of a breakpoint?\n",
    "\"\"\"\n",
    "\"\"\"\n",
    "11.Answer) \n",
    "    A breakpoint is a setting on a line of code that causes the debugger \n",
    "    to pause when the program execution reaches the break point line.\n",
    "\"\"\""
   ]
  }
 ],
 "metadata": {
  "kernelspec": {
   "display_name": "Python 3",
   "language": "python",
   "name": "python3"
  },
  "language_info": {
   "codemirror_mode": {
    "name": "ipython",
    "version": 3
   },
   "file_extension": ".py",
   "mimetype": "text/x-python",
   "name": "python",
   "nbconvert_exporter": "python",
   "pygments_lexer": "ipython3",
   "version": "3.8.8"
  }
 },
 "nbformat": 4,
 "nbformat_minor": 5
}
