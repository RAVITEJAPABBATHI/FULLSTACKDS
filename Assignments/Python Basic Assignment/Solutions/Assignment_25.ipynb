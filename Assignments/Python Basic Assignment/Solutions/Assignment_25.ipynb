{
 "cells": [
  {
   "cell_type": "code",
   "execution_count": null,
   "id": "9dd4fdde",
   "metadata": {},
   "outputs": [],
   "source": [
    "\"\"\"\n",
    "1) What is the difference between enclosing a list comprehension in square brackets and parentheses?\n",
    "2) What is the relationship between generators and iterators?\n",
    "3) What are the signs that a function is a generator function?\n",
    "4) What is the purpose of a yield statement?\n",
    "5) What is the relationship between map calls and list comprehensions? Make a comparison and contrast between the two.\n",
    "\"\"\""
   ]
  },
  {
   "cell_type": "code",
   "execution_count": 3,
   "id": "64e4098b",
   "metadata": {},
   "outputs": [
    {
     "name": "stdout",
     "output_type": "stream",
     "text": [
      "[0, 1, 2, 3, 4, 5, 6, 7, 8, 9]\n",
      "<generator object <genexpr> at 0x000002050B6E0C10>\n"
     ]
    }
   ],
   "source": [
    "\"\"\"\n",
    "1) What is the difference between enclosing a list comprehension in square brackets and parentheses?\n",
    "\"\"\"\n",
    "\"\"\"\n",
    "1.Answer) list comprehension in square brackets will give us the result as list\n",
    "         when list comprehension is done in parantheses it gives a generator object\n",
    "\"\"\"\n",
    "one=[i for i in range(10)]\n",
    "print(one)\n",
    "\n",
    "two=(i for i in range(10))\n",
    "print(two)"
   ]
  },
  {
   "cell_type": "code",
   "execution_count": 5,
   "id": "ee86e694",
   "metadata": {},
   "outputs": [
    {
     "name": "stdout",
     "output_type": "stream",
     "text": [
      "<generator object <genexpr> at 0x000002050B6E0EB0>\n",
      "0\n",
      "1\n"
     ]
    }
   ],
   "source": [
    "\"\"\"\n",
    "2) What is the relationship between generators and iterators?\n",
    "\"\"\"\n",
    "\"\"\"\n",
    "2.Answer) Generators are those when iterated gives the result one by one. In generators memory is saved.\n",
    "          To fetch results from generator it must be converted to iterator object and iterate. For loop internally\n",
    "          converts the generator object to iterator object and loops through it\n",
    "          we can convert the generator function to iterator using iter()\n",
    "\"\"\"\n",
    "gen=(i**2 for i in range(10))\n",
    "print(gen)\n",
    "gen_iter=iter(gen)\n",
    "print(next(gen_iter))\n",
    "print(next(gen_iter))"
   ]
  },
  {
   "cell_type": "code",
   "execution_count": 6,
   "id": "d62d9363",
   "metadata": {},
   "outputs": [
    {
     "name": "stdout",
     "output_type": "stream",
     "text": [
      "1\n",
      "8\n"
     ]
    }
   ],
   "source": [
    "\"\"\"\n",
    "3) What are the signs that a function is a generator function?\n",
    "\"\"\"\n",
    "\"\"\"\n",
    "3.Answer) yield keyword is used in a generator function instead of return which is a sign\n",
    "\"\"\"\n",
    "def gen_cubes():\n",
    "    i=0\n",
    "    while True:\n",
    "        i+=1\n",
    "        yield i**3\n",
    "gen_iter=iter(gen_cubes())\n",
    "print(next(gen_iter))\n",
    "print(next(gen_iter))"
   ]
  },
  {
   "cell_type": "code",
   "execution_count": null,
   "id": "b885b2a1",
   "metadata": {},
   "outputs": [],
   "source": [
    "\"\"\"\n",
    "4) What is the purpose of a yield statement?\n",
    "\"\"\"\n",
    "\"\"\"\n",
    "4.Answer)\n",
    "    The yield statement suspends function's execution and sends a value back to the caller, but retains enough state \n",
    "    to enable function to resume where it is left off. \n",
    "    When resumed, the function continues execution immediately after the last yield run.\n",
    "\"\"\""
   ]
  },
  {
   "cell_type": "code",
   "execution_count": null,
   "id": "41c31ad8",
   "metadata": {},
   "outputs": [],
   "source": [
    "\"\"\"\n",
    "5) What is the relationship between map calls and list comprehensions? Make a comparison and contrast between the two.\n",
    "\"\"\"\n",
    "\"\"\"\n",
    "5.Answer)\n",
    "\n",
    "Map VS List Comprehension\n",
    "    List comprehension is more concise and easier to read as compared to map.\n",
    "    List comprehension allows filtering. In map, we have no such facility. For example, to print all even numbers\n",
    "        in range of 100, we can write [n for n in range(100) if n%2 == 0].        \n",
    "    List comprehension are used when a list of results is required, map only returns a map object and does not return any list.\n",
    "    List comprehension is faster than map when we need to evaluate expressions that are too long or complicated to express\n",
    "    Map is faster in case of calling an already defined function (as no lambda is required).\n",
    "\"\"\"\n"
   ]
  }
 ],
 "metadata": {
  "kernelspec": {
   "display_name": "Python 3 (ipykernel)",
   "language": "python",
   "name": "python3"
  },
  "language_info": {
   "codemirror_mode": {
    "name": "ipython",
    "version": 3
   },
   "file_extension": ".py",
   "mimetype": "text/x-python",
   "name": "python",
   "nbconvert_exporter": "python",
   "pygments_lexer": "ipython3",
   "version": "3.8.12"
  }
 },
 "nbformat": 4,
 "nbformat_minor": 5
}
