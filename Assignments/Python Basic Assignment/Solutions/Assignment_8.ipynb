{
 "cells": [
  {
   "cell_type": "markdown",
   "id": "1a47d16c",
   "metadata": {},
   "source": [
    "1. Is the Python Standard Library included with PyInputPlus?\n",
    "2. Why is PyInputPlus commonly imported with import pyinputplus as pypi?\n",
    "3. How do you distinguish between inputInt() and inputFloat()?\n",
    "4. Using PyInputPlus, how do you ensure that the user enters a whole number between 0 and 99?\n",
    "5. What is transferred to the keyword arguments allowRegexes and blockRegexes?\n",
    "6. If a blank input is entered three times, what does inputStr(limit=3) do?\n",
    "7. If blank input is entered three times, what does inputStr(limit=3, default='hello') do?\n"
   ]
  },
  {
   "cell_type": "code",
   "execution_count": null,
   "id": "5405bc62",
   "metadata": {},
   "outputs": [],
   "source": [
    "\"\"\"\n",
    "1. Is the Python Standard Library included with PyInputPlus?\n",
    "\"\"\"\n",
    "\"\"\"\n",
    "1.Answer) No the Python Standard Library is included with PyInputPlus.\n",
    "        we need to install it import it as below.\n",
    "        !pip install PyInputPlus\n",
    "        import pyinputplus as pyip\n",
    "\"\"\""
   ]
  },
  {
   "cell_type": "code",
   "execution_count": null,
   "id": "c4931517",
   "metadata": {},
   "outputs": [],
   "source": [
    "\"\"\"\n",
    "2. Why is PyInputPlus commonly imported with import pyinputplus as pypi?\n",
    "\"\"\"\n",
    "\"\"\"\n",
    "2.Answer) This is done to enter a shorter name when calling the module's functions\n",
    "\"\"\""
   ]
  },
  {
   "cell_type": "code",
   "execution_count": null,
   "id": "6359eb76",
   "metadata": {},
   "outputs": [],
   "source": [
    "\"\"\"\n",
    "3. How do you distinguish between inputInt() and inputFloat()?\n",
    "\"\"\"\n",
    "\"\"\"\n",
    "3.Answer) \n",
    "    inputInt() : Accepts an integer value. This also takes additional parameters ‘min’, ‘max’, \n",
    "    ‘greaterThan’ and ‘lessThan’  for bounds. Returns an int.\n",
    "    inputFloat() : Accepts a floating-point numeric value. \n",
    "    Also takes additional ‘min’, ‘max’, ‘greaterThan’ and ‘lessThan’  parameters. Returns a float.        \n",
    "\"\"\""
   ]
  },
  {
   "cell_type": "code",
   "execution_count": null,
   "id": "a6f8ec9f",
   "metadata": {},
   "outputs": [],
   "source": [
    "\"\"\"\n",
    "4. Using PyInputPlus, how do you ensure that the user enters a whole number between 0 and 99?\n",
    "\"\"\"\n",
    "\"\"\"\n",
    "4.Answer)\n",
    "    import pyinputplus as pyip\n",
    "    pyip.inputInt(prompt='Enter a whole number between 0 and 99: ',min=0,max=99)\n",
    "\"\"\"\n",
    "\n"
   ]
  },
  {
   "cell_type": "code",
   "execution_count": 17,
   "id": "64948a40",
   "metadata": {},
   "outputs": [
    {
     "name": "stdout",
     "output_type": "stream",
     "text": [
      "Please enter your pincode of 6 digits and begins with 5:578904\n",
      "Please enter your pincode of which doesnot contain 0:407893\n",
      "This response is invalid.\n",
      "Please enter your pincode of which doesnot contain 0:567895\n"
     ]
    },
    {
     "data": {
      "text/plain": [
       "567895"
      ]
     },
     "execution_count": 17,
     "metadata": {},
     "output_type": "execute_result"
    }
   ],
   "source": [
    "\"\"\"\n",
    "5. What is transferred to the keyword arguments allowRegexes and blockRegexes?\n",
    "\"\"\"\n",
    "\"\"\"\n",
    "5.Answer) \n",
    "    The regular expression syntax is transfered to keyword arguments allowRegexes and blockRegexes.\n",
    "     example:\n",
    "        \"\"\"\n",
    "pyip.inputInt('Please enter your pincode of 6 digits and begins with 5:',allowRegexes='5\\d{5}')\n",
    "pyip.inputInt('Please enter your pincode of which doesnot contain 0:',blockRegexes='0')"
   ]
  },
  {
   "cell_type": "code",
   "execution_count": null,
   "id": "aef95be6",
   "metadata": {},
   "outputs": [],
   "source": [
    "\"\"\"\n",
    "6. If a blank input is entered three times, what does inputStr(limit=3) do?\n",
    "\"\"\"\n",
    "\"\"\"\n",
    "6.Answer)\n",
    "    The limit parameter is used to specify the maximum number of tries the user \n",
    "    has for entering a valid input, after which the default value is returned, \n",
    "    if specified, or a RetryLimitException is raised otherwise.\n",
    "\"\"\""
   ]
  },
  {
   "cell_type": "code",
   "execution_count": 19,
   "id": "fb2a0524",
   "metadata": {},
   "outputs": [
    {
     "name": "stdout",
     "output_type": "stream",
     "text": [
      "\n",
      "Blank values are not allowed.\n",
      "\n",
      "Blank values are not allowed.\n",
      "\n",
      "Blank values are not allowed.\n"
     ]
    },
    {
     "data": {
      "text/plain": [
       "'hello'"
      ]
     },
     "execution_count": 19,
     "metadata": {},
     "output_type": "execute_result"
    }
   ],
   "source": [
    "\"\"\"\n",
    "7. If blank input is entered three times, what does inputStr(limit=3, default='hello') do?\n",
    "\"\"\"\n",
    "\"\"\"\n",
    "7.Answer) It gives the default value 'hello' if a blank input is given for the inputStr\n",
    "\"\"\"\n",
    "pyip.inputStr(limit=3, default='hello')"
   ]
  },
  {
   "cell_type": "code",
   "execution_count": null,
   "id": "484087a0",
   "metadata": {},
   "outputs": [],
   "source": []
  }
 ],
 "metadata": {
  "kernelspec": {
   "display_name": "Python 3",
   "language": "python",
   "name": "python3"
  },
  "language_info": {
   "codemirror_mode": {
    "name": "ipython",
    "version": 3
   },
   "file_extension": ".py",
   "mimetype": "text/x-python",
   "name": "python",
   "nbconvert_exporter": "python",
   "pygments_lexer": "ipython3",
   "version": "3.8.8"
  }
 },
 "nbformat": 4,
 "nbformat_minor": 5
}
