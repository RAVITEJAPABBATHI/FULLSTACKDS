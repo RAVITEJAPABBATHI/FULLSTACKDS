{
 "cells": [
  {
   "cell_type": "markdown",
   "id": "222e6a8c",
   "metadata": {},
   "source": [
    "1. What exactly is []?\n",
    "2. In a list of values stored in a variable called spam, how would you assign the value 'hello' as the third value? (Assume [2, 4, 6, 8, 10] are in spam.)\n",
    "Let's pretend the spam includes the list ['a', 'b', 'c', 'd'] for the next three queries.\n",
    "3. What is the value of spam[int(int('3' * 2) / 11)]?\n",
    "4. What is the value of spam[-1]?\n",
    "5. What is the value of spam[:2]?\n",
    "Let's pretend bacon has the list [3.14, 'cat,' 11, 'cat,' True] for the next three questions.\n",
    "6. What is the value of bacon.index('cat')?\n",
    "7. How does bacon.append(99) change the look of the list value in bacon?\n",
    "8. How does bacon.remove('cat') change the look of the list in bacon?\n",
    "9. What are the list concatenation and list replication operators?\n",
    "10. What is difference between the list methods append() and insert()?\n",
    "11. What are the two methods for removing items from a list?\n",
    "12. Describe how list values and string values are identical.\n",
    "13. What's the difference between tuples and lists?\n",
    "14. How do you type a tuple value that only contains the integer 42?\n",
    "15. How do you get a list value's tuple form? How do you get a tuple value's list form?\n",
    "16. Variables that \"contain\" list values are not necessarily lists themselves. Instead, what do they contain?\n",
    "17. How do you distinguish between copy.copy() and copy.deepcopy()?\n"
   ]
  },
  {
   "cell_type": "code",
   "execution_count": null,
   "id": "424bba87",
   "metadata": {},
   "outputs": [],
   "source": [
    "\"\"\"\n",
    "1.What exactly is []?\n",
    "\"\"\"\n",
    "\"\"\"\n",
    "1.Answer) [] is used to create a list\n",
    "eg: [1,2,3]\n",
    "\"\"\""
   ]
  },
  {
   "cell_type": "code",
   "execution_count": 1,
   "id": "0970df79",
   "metadata": {},
   "outputs": [
    {
     "name": "stdout",
     "output_type": "stream",
     "text": [
      "[2, 4, 6, 'hello', 8, 10]\n"
     ]
    }
   ],
   "source": [
    "\"\"\"\n",
    "2. In a list of values stored in a variable called spam,\n",
    "how would you assign the value 'hello' as the third value? (Assume [2, 4, 6, 8, 10] are in spam.)\n",
    "\"\"\"\n",
    "\n",
    "\"\"\"\n",
    "2.Answer)\n",
    "    spam=[2, 4, 6, 8, 10]\n",
    "    spam.insert(3,'hello')\n",
    "\"\"\"\n",
    "spam=[2, 4, 6, 8, 10]\n",
    "spam.insert(3,'hello')\n",
    "print(spam)"
   ]
  },
  {
   "cell_type": "code",
   "execution_count": null,
   "id": "1269bee8",
   "metadata": {},
   "outputs": [],
   "source": [
    "\"\"\"\n",
    "Let's pretend the spam includes the list ['a', 'b', 'c', 'd'] for the next three queries.\n",
    "3. What is the value of spam[int(int('3' * 2) / 11)]?\n",
    "4. What is the value of spam[-1]?\n",
    "5. What is the value of spam[:2]?\n",
    "\"\"\""
   ]
  },
  {
   "cell_type": "code",
   "execution_count": 2,
   "id": "08bdca2f",
   "metadata": {},
   "outputs": [
    {
     "name": "stdout",
     "output_type": "stream",
     "text": [
      "[2, 4, 6, 'hello', 8, 10, 'a', 'b', 'c', 'd']\n"
     ]
    }
   ],
   "source": [
    "spam.extend(['a', 'b', 'c', 'd'])\n",
    "print(spam)\n",
    "\n",
    "#3.Answer)'hello'\n",
    "#4.Answer) 'd'\n",
    "#5.Answer)'c'"
   ]
  },
  {
   "cell_type": "code",
   "execution_count": null,
   "id": "a6f41137",
   "metadata": {},
   "outputs": [],
   "source": [
    "\"\"\"\n",
    "Let's pretend bacon has the list [3.14, 'cat' ,11, 'cat', True] for the next three questions.\n",
    "6. What is the value of bacon.index('cat')?\n",
    "7. How does bacon.append(99) change the look of the list value in bacon?\n",
    "8. How does bacon.remove('cat') change the look of the list in bacon?\n",
    "\"\"\""
   ]
  },
  {
   "cell_type": "code",
   "execution_count": null,
   "id": "2cd6f1ae",
   "metadata": {},
   "outputs": [],
   "source": [
    "\"\"\"\n",
    "6.Answer) The value of bacon.index('cat') is 1\n",
    "7.Answer) 99 is added to the bacon list and it becomes [3.14, 'cat', 11, 'cat', True, 99]\n",
    "8.Answer) bacon.remove('cat') removes 'cat from list and it becomes [3.14, 11, 'cat', True, 99]\n",
    "\"\"\""
   ]
  },
  {
   "cell_type": "code",
   "execution_count": 11,
   "id": "409c0622",
   "metadata": {},
   "outputs": [
    {
     "name": "stdout",
     "output_type": "stream",
     "text": [
      "1\n",
      "[3.14, 'cat', 11, 'cat', True, 99]\n",
      "[3.14, 11, 'cat', True, 99]\n"
     ]
    }
   ],
   "source": [
    "bacon=[3.14, 'cat' ,11, 'cat', True]\n",
    "print(bacon.index('cat')) #6\n",
    "bacon.append(99)\n",
    "print(bacon)#7\n",
    "bacon.remove('cat')\n",
    "print(bacon)#8"
   ]
  },
  {
   "cell_type": "code",
   "execution_count": null,
   "id": "24f04f27",
   "metadata": {},
   "outputs": [],
   "source": [
    "\"\"\"\n",
    "9. What are the list concatenation and list replication operators?\n",
    "\"\"\"\n",
    "\n",
    "\"\"\"\n",
    "9.Answer) \n",
    "    list concatenation operator + is used to concatenate the 2 lists.\n",
    "    eg: [1,2,3]+['a','b','c']\n",
    "    list replication operator * is used to replicate the list\n",
    "    eg; [1,2,3]*3\n",
    "\n",
    "\"\"\""
   ]
  },
  {
   "cell_type": "code",
   "execution_count": 15,
   "id": "3df9bc6d",
   "metadata": {},
   "outputs": [
    {
     "name": "stdout",
     "output_type": "stream",
     "text": [
      "[1, 2, 5, 6, 7]\n",
      "[1, 2, 3, 5, 6, 7]\n"
     ]
    }
   ],
   "source": [
    "\"\"\"\n",
    "10. What is difference between the list methods append() and insert()?\n",
    "\"\"\"\n",
    "\n",
    "\"\"\"\n",
    "10.Answers) \n",
    "    append() method adds an item at the end of the list\n",
    "    insert() method inserts an item at the specified index position in the list\n",
    "    \n",
    "    The example is mentioned below\n",
    "\"\"\"\n",
    "\n",
    "a=[1,2,5,6]\n",
    "a.append(7)\n",
    "print(a)\n",
    "a.insert(2,3)\n",
    "print(a)"
   ]
  },
  {
   "cell_type": "code",
   "execution_count": null,
   "id": "94c15680",
   "metadata": {},
   "outputs": [],
   "source": [
    "\"\"\"\n",
    "11. What are the two methods for removing items from a list?\n",
    "\"\"\"\n",
    "\"\"\"\n",
    "11.answer) remove(), pop() are the 2 methods to remove items from a list\n",
    "\"\"\""
   ]
  },
  {
   "cell_type": "code",
   "execution_count": 16,
   "id": "995d3b78",
   "metadata": {},
   "outputs": [
    {
     "data": {
      "text/plain": [
       "''"
      ]
     },
     "execution_count": 16,
     "metadata": {},
     "output_type": "execute_result"
    }
   ],
   "source": [
    "\"\"\"\n",
    "12. Describe how list values and string values are identical.\n",
    "\"\"\"\n",
    "\"\"\"\n",
    "12.Answer) Both list and string store values in a sequence. Index operations can be done on both list and string values\n",
    "\"\"\""
   ]
  },
  {
   "cell_type": "code",
   "execution_count": null,
   "id": "21d9ad18",
   "metadata": {},
   "outputs": [],
   "source": [
    "\"\"\"\n",
    "13. What's the difference between tuples and lists?\n",
    "\"\"\"\n",
    "\"\"\"\n",
    "13.Answer) \n",
    "    tuples are immutable objects. It contains only 2 methods i.e index() and count(). we can create generator using tuple\n",
    "    lists are mutable objects. we can perform list comprehension using lists.\n",
    "\n",
    "\"\"\""
   ]
  },
  {
   "cell_type": "code",
   "execution_count": 20,
   "id": "c8a87c96",
   "metadata": {},
   "outputs": [
    {
     "data": {
      "text/plain": [
       "(42,)"
      ]
     },
     "execution_count": 20,
     "metadata": {},
     "output_type": "execute_result"
    }
   ],
   "source": [
    "\"\"\"\n",
    "14. How do you type a tuple value that only contains the integer 42?\n",
    "\"\"\"\n",
    "(42,)"
   ]
  },
  {
   "cell_type": "code",
   "execution_count": 23,
   "id": "cfeab200",
   "metadata": {},
   "outputs": [
    {
     "data": {
      "text/plain": [
       "[1, 2, 3]"
      ]
     },
     "execution_count": 23,
     "metadata": {},
     "output_type": "execute_result"
    }
   ],
   "source": [
    "\"\"\"\n",
    "15. How do you get a list value's tuple form? How do you get a tuple value's list form?\n",
    "\n",
    "15.Answer) Using explicit type casting\n",
    "        tuple([2,3,4]) gives tuple (2,3,4)\n",
    "        list((1,2,3)) gives list [1,2,3]\n",
    "\"\"\""
   ]
  },
  {
   "cell_type": "code",
   "execution_count": null,
   "id": "429c560b",
   "metadata": {},
   "outputs": [],
   "source": [
    "\"\"\"\n",
    "16. Variables that \"contain\" list values are not necessarily lists themselves. Instead, what do they contain?\n",
    "\"\"\"\n",
    "\n",
    "\"\"\"\n",
    "16.Answer) Variables that \"contain\" list values store references to the list values\n",
    "\"\"\""
   ]
  },
  {
   "cell_type": "code",
   "execution_count": null,
   "id": "0496fc15",
   "metadata": {},
   "outputs": [],
   "source": [
    "\"\"\"\n",
    "17. How do you distinguish between copy.copy() and copy.deepcopy()?\n",
    "\"\"\"\n",
    "\"\"\"\n",
    "17.Answer)\n",
    "    copy.copy(): A shallow copy constructs a new compound object and then inserts\n",
    "    references into it to the objects found in the original.\n",
    "    copy.deepcopy(): A deep copy constructs a new compound object and then, recursively, \n",
    "    inserts copies into it of the objects found in the original.\n",
    "\"\"\""
   ]
  }
 ],
 "metadata": {
  "kernelspec": {
   "display_name": "Python 3",
   "language": "python",
   "name": "python3"
  },
  "language_info": {
   "codemirror_mode": {
    "name": "ipython",
    "version": 3
   },
   "file_extension": ".py",
   "mimetype": "text/x-python",
   "name": "python",
   "nbconvert_exporter": "python",
   "pygments_lexer": "ipython3",
   "version": "3.8.8"
  }
 },
 "nbformat": 4,
 "nbformat_minor": 5
}
