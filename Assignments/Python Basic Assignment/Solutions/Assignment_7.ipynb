{
 "cells": [
  {
   "cell_type": "code",
   "execution_count": null,
   "id": "0940a507",
   "metadata": {},
   "outputs": [],
   "source": [
    "1. What is the name of the feature responsible for generating Regex objects?\n",
    "2. Why do raw strings often appear in Regex objects?\n",
    "3. What is the return value of the search() method?\n",
    "4. From a Match item, how do you get the actual strings that match the pattern?\n",
    "5. In the regex which created from the r'(\\d\\d\\d)-(\\d\\d\\d-\\d\\d\\d\\d)', what does group zero cover? Group 2? Group 1?\n",
    "6. In standard expression syntax, parentheses and intervals have distinct meanings. How can you tell a regex that you want it to fit real parentheses and periods?\n",
    "7. The findall() method returns a string list or a list of string tuples. What causes it to return one of the two options?\n",
    "8. In standard expressions, what does the | character mean?\n",
    "9. In regular expressions, what does the character stand for?\n",
    "10.In regular expressions, what is the difference between the + and * characters?\n",
    "11. What is the difference between {4} and {4,5} in regular expression?\n",
    "12. What do you mean by the \\d, \\w, and \\s shorthand character classes signify in regular expressions?\n",
    "13. What do means by \\D, \\W, and \\S shorthand character classes signify in regular expressions?\n",
    "14. What is the difference between .*? and .*?\n",
    "15. What is the syntax for matching both numbers and lowercase letters with a character class?\n",
    "16. What is the procedure for making a normal expression in regax case insensitive?\n",
    "17. What does the . character normally match? What does it match if re.DOTALL is passed as 2nd argument in re.compile()?\n",
    "18. If numReg = re.compile(r'\\d+'), what will numRegex.sub('X', '11 drummers, 10 pipers, five rings, 4 hen') return?\n",
    "19. What does passing re.VERBOSE as the 2nd argument to re.compile() allow to do?\n",
    "20. How would you write a regex that match a number with comma for every three digits? It must match the given following:\n",
    "'42'\n",
    "'1,234'\n",
    "'6,368,745'\n",
    "but not the following:\n",
    "'12,34,567' (which has only two digits between the commas)\n",
    "'1234' (which lacks commas)\n",
    "21. How would you write a regex that matches the full name of someone whose last name is Watanabe? You can assume that the first name that comes before it will always be one word that begins with a capital letter. The regex must match the following:\n",
    "'Haruto Watanabe'\n",
    "'Alice Watanabe'\n",
    "'RoboCop Watanabe'\n",
    "but not the following:\n",
    "'haruto Watanabe' (where the first name is not capitalized)\n",
    "'Mr. Watanabe' (where the preceding word has a nonletter character)\n",
    "'Watanabe' (which has no first name)\n",
    "'Haruto watanabe' (where Watanabe is not capitalized)\n",
    "22. How would you write a regex that matches a sentence where the first word is either Alice, Bob, or Carol; the second word is either eats, pets, or throws; the third word is apples, cats, or baseballs; and the sentence ends with a period? This regex should be case-insensitive. It must match the following:\n",
    "'Alice eats apples.'\n",
    "'Bob pets cats.'\n",
    "'Carol throws baseballs.'\n",
    "'Alice throws Apples.'\n",
    "'BOB EATS CATS.'\n",
    "but not the following:\n",
    "'RoboCop eats apples.'\n",
    "'ALICE THROWS FOOTBALLS.'\n",
    "'Carol eats 7 cats.'\n",
    "\n"
   ]
  },
  {
   "cell_type": "code",
   "execution_count": null,
   "id": "608c01ee",
   "metadata": {},
   "outputs": [],
   "source": [
    "\"\"\" 1.What is the name of the feature responsible for generating Regex objects?\"\"\"\n",
    "\"\"\"\n",
    "    1.Answer) The re.compile() function returns Regex objects.\n",
    "\"\"\""
   ]
  },
  {
   "cell_type": "code",
   "execution_count": null,
   "id": "b41e1a19",
   "metadata": {},
   "outputs": [],
   "source": [
    "\"\"\"\n",
    " 2. Why do raw strings often appear in Regex objects?\n",
    "\"\"\"\n",
    "\"\"\"\n",
    " 2.Answer) Raw strings are used so that backslashes do not have to be escaped.\n",
    "\"\"\""
   ]
  },
  {
   "cell_type": "code",
   "execution_count": null,
   "id": "b0a78a5f",
   "metadata": {},
   "outputs": [],
   "source": [
    "\"\"\"\n",
    "3. What is the return value of the search() method?\n",
    "\"\"\"\n",
    "\"\"\"\n",
    "3.Answer) The search() method returns Match objects.\n",
    "\"\"\""
   ]
  },
  {
   "cell_type": "code",
   "execution_count": null,
   "id": "7995810f",
   "metadata": {},
   "outputs": [],
   "source": [
    "\"\"\"\n",
    "4. From a Match item, how do you get the actual strings that match the pattern?\n",
    "\"\"\"\n",
    "\"\"\"\n",
    "4.Answer) The group() method returns strings of the matched text.\n",
    "\"\"\""
   ]
  },
  {
   "cell_type": "code",
   "execution_count": null,
   "id": "f5918652",
   "metadata": {},
   "outputs": [],
   "source": [
    "\"\"\"\n",
    "5. In the regex which created from the r'(\\d\\d\\d)-(\\d\\d\\d-\\d\\d\\d\\d)', what does group zero cover? Group 2? Group 1?\n",
    "\"\"\"\n",
    "\"\"\"\n",
    "5.Answer) Group 0 is the entire match, group 1 covers the first set of parentheses, and \n",
    "          group 2 covers the second set of parentheses.\n",
    "\"\"\""
   ]
  },
  {
   "cell_type": "code",
   "execution_count": null,
   "id": "c640ca98",
   "metadata": {},
   "outputs": [],
   "source": [
    "\"\"\"\n",
    "6. In standard expression syntax, parentheses and intervals have distinct meanings. \n",
    "How can you tell a regex that you want it to fit real parentheses and periods?\n",
    "\"\"\"\n",
    "\"\"\"\n",
    "6.Answer) Periods and parentheses can be escaped with a backslash: \\., \\(, and \\).\n",
    "\"\"\""
   ]
  },
  {
   "cell_type": "code",
   "execution_count": null,
   "id": "d4a4daf3",
   "metadata": {},
   "outputs": [],
   "source": [
    "\"\"\"\n",
    "7. The findall() method returns a string list or a list of string tuples. What causes it to return one of the two options?\n",
    "\"\"\"\n",
    "\"\"\"\n",
    "7.Answer) If the regex has no groups, a list of strings is returned. If the regex has groups, a list of tuples of strings is returned.\n",
    "\"\"\""
   ]
  },
  {
   "cell_type": "code",
   "execution_count": null,
   "id": "3435b3e9",
   "metadata": {},
   "outputs": [],
   "source": [
    "\"\"\"\n",
    "8. In standard expressions, what does the | character mean?\n",
    "\"\"\"\n",
    "\"\"\"\n",
    "8.Answer) The | character signifies matching \"either, or\" between two groups.\n",
    "\"\"\""
   ]
  },
  {
   "cell_type": "code",
   "execution_count": null,
   "id": "491f5a26",
   "metadata": {},
   "outputs": [],
   "source": [
    "\"\"\"\n",
    "9. In regular expressions, what does the character stand for?\n",
    "\"\"\"\n",
    "\"\"\"\n",
    "9.Answer) The ? character can either mean \"match zero or one of the preceding group\"\n",
    "\"\"\""
   ]
  },
  {
   "cell_type": "code",
   "execution_count": null,
   "id": "25070bc9",
   "metadata": {},
   "outputs": [],
   "source": [
    "\"\"\"\n",
    "10.In regular expressions, what is the difference between the + and * characters?\n",
    "\"\"\"\n",
    "\"\"\"\n",
    "10.Answers)\n",
    "    The + matches one or more. The * matches zero or more.\n",
    "\"\"\"\n"
   ]
  },
  {
   "cell_type": "code",
   "execution_count": null,
   "id": "9dfa8254",
   "metadata": {},
   "outputs": [],
   "source": [
    "\"\"\"\n",
    "11. What is the difference between {4} and {4,5} in regular expression?\n",
    "\"\"\"\n",
    "\"\"\"\n",
    "11.Answer) {4} : only 4 characters\n",
    "           {4,5} : between 4 and 5 characters, inclusive.\n",
    "\"\"\""
   ]
  },
  {
   "cell_type": "code",
   "execution_count": null,
   "id": "4b2ccaff",
   "metadata": {},
   "outputs": [],
   "source": [
    "\"\"\"\n",
    "12. What do you mean by the \\d, \\w, and \\s shorthand character classes signify in regular expressions?\n",
    "\"\"\"\n",
    "\"\"\"\n",
    "12.Answer) \n",
    "    \\d : Returns a match where the string contains digits (numbers from 0-9)\n",
    "    \\w : Returns a match where the string contains any word characters \n",
    "        (characters from a to Z, digits from 0-9, and the underscore _ character)\n",
    "    \\s : Returns a match where the string contains a white space character\n",
    "\"\"\""
   ]
  },
  {
   "cell_type": "code",
   "execution_count": null,
   "id": "2fc1a283",
   "metadata": {},
   "outputs": [],
   "source": [
    "\"\"\"\n",
    "13. What do means by \\D, \\W, and \\S shorthand character classes signify in regular expressions?\n",
    "\"\"\"\n",
    "\"\"\"\n",
    "13.Answer) \n",
    "    \\D : Returns a match where the string DOES NOT contain digits\n",
    "    \\W : Returns a match where the string DOES NOT contain any word characters\n",
    "    \\S : Returns a match where the string DOES NOT contain a white space character\n",
    "\"\"\""
   ]
  },
  {
   "cell_type": "code",
   "execution_count": null,
   "id": "771e202c",
   "metadata": {},
   "outputs": [],
   "source": [
    "\"\"\"\n",
    "14. What is the difference between .*? and .+?\n",
    "\"\"\"\n",
    "\"\"\"\n",
    "14.Answer) \n",
    "    .*? : any character zero or more times.\n",
    "    .+? : any character one or more time\n",
    "\"\"\""
   ]
  },
  {
   "cell_type": "code",
   "execution_count": null,
   "id": "342a02a6",
   "metadata": {},
   "outputs": [],
   "source": [
    "\"\"\"\n",
    "15. What is the syntax for matching both numbers and lowercase letters with a character class?\n",
    "\"\"\"\n",
    "\"\"\"\n",
    "15.Answer) [0-9 a-z]\n",
    "\"\"\""
   ]
  },
  {
   "cell_type": "code",
   "execution_count": null,
   "id": "3ecaaf39",
   "metadata": {},
   "outputs": [],
   "source": [
    "\"\"\"\n",
    "16. What is the procedure for making a normal expression in regax case insensitive?\n",
    "\"\"\"\n",
    "\"\"\"\n",
    "16.Answer) Eg: re.search('test', 'TeSt', re.IGNORECASE)\n",
    "\"\"\""
   ]
  },
  {
   "cell_type": "code",
   "execution_count": null,
   "id": "d8781a91",
   "metadata": {},
   "outputs": [],
   "source": [
    "\"\"\"\n",
    "17. What does the . character normally match? What does it match if re.DOTALL is passed as 2nd argument in re.compile()?\n",
    "\"\"\"\n",
    "\"\"\"\n",
    "17.Answer) \n",
    "    . character normally matches any character except the newline character. \n",
    "    If re. DOTALL is passed as the second argument to re. compile(), then the dot will also match newline characters.\n",
    "\"\"\""
   ]
  },
  {
   "cell_type": "code",
   "execution_count": null,
   "id": "8c778d5a",
   "metadata": {},
   "outputs": [],
   "source": [
    "\"\"\"\n",
    "18. If numReg = re.compile(r'\\d+'), what will numRegex.sub('X', '11 drummers, 10 pipers, five rings, 4 hen') return?\n",
    "\"\"\"\n",
    "\"\"\"\n",
    "18.Answer) The regular expression \\d+ will match text that has one or more numeric digits (\\d+) so it returns\n",
    "            'X drummers, X pipers, five rings, X hen'\n",
    "\"\"\"\n"
   ]
  },
  {
   "cell_type": "code",
   "execution_count": null,
   "id": "12b87b79",
   "metadata": {},
   "outputs": [],
   "source": [
    "\"\"\"\n",
    "19. What does passing re.VERBOSE as the 2nd argument to re.compile() allow to do?\n",
    "\"\"\"\n",
    "\"\"\"\n",
    "19.Answer) \n",
    "    The re.VERBOSE argument allows you to add whitespace and comments to the string passed to re.\n",
    "\"\"\""
   ]
  },
  {
   "cell_type": "code",
   "execution_count": null,
   "id": "d9e440e2",
   "metadata": {},
   "outputs": [],
   "source": [
    "\"\"\"\n",
    "20. How would you write a regex that match a number with comma for every three digits? It must match the given following:\n",
    "'42'\n",
    "'1,234'\n",
    "'6,368,745'\n",
    "but not the following:\n",
    "'12,34,567' (which has only two digits between the commas)\n",
    "'1234' (which lacks commas)\n",
    "\"\"\"\n",
    "\"\"\"\n",
    "20.Answer) \n",
    "\n",
    "r'^\\d{1,3}(,\\d{3})*$'\n",
    "\"\"\""
   ]
  },
  {
   "cell_type": "code",
   "execution_count": 4,
   "id": "a851c345",
   "metadata": {},
   "outputs": [
    {
     "data": {
      "text/plain": [
       "''"
      ]
     },
     "execution_count": 4,
     "metadata": {},
     "output_type": "execute_result"
    }
   ],
   "source": [
    "\"\"\"\n",
    "21. How would you write a regex that matches the full name of someone whose last name is Watanabe? You can assume that the first name that comes before it will always be one word that begins with a capital letter. The regex must match the following:\n",
    "'Haruto Watanabe'\n",
    "'Alice Watanabe'\n",
    "'RoboCop Watanabe'\n",
    "but not the following:\n",
    "'haruto Watanabe' (where the first name is not capitalized)\n",
    "'Mr. Watanabe' (where the preceding word has a nonletter character)\n",
    "'Watanabe' (which has no first name)\n",
    "'Haruto watanabe' (where Watanabe is not capitalized)\n",
    "\"\"\"\n",
    "\n",
    "\"\"\"\n",
    "21.Answer) r'[A-Z](?:\\w)+\\sWatanabe'\n",
    "\"\"\""
   ]
  },
  {
   "cell_type": "code",
   "execution_count": 5,
   "id": "433721d6",
   "metadata": {},
   "outputs": [
    {
     "data": {
      "text/plain": [
       "''"
      ]
     },
     "execution_count": 5,
     "metadata": {},
     "output_type": "execute_result"
    }
   ],
   "source": [
    "\"\"\"\n",
    "22. How would you write a regex that matches a sentence where the first word is either Alice, Bob, or Carol; \n",
    "the second word is either eats, pets, or throws; the third word is apples, cats, or baseballs; \n",
    "and the sentence ends with a period? This regex should be case-insensitive. It must match the following:\n",
    "'Alice eats apples.'\n",
    "'Bob pets cats.'\n",
    "'Carol throws baseballs.'\n",
    "'Alice throws Apples.'\n",
    "'BOB EATS CATS.'\n",
    "but not the following:\n",
    "'RoboCop eats apples.'\n",
    "'ALICE THROWS FOOTBALLS.'\n",
    "'Carol eats 7 cats.'\n",
    "\n",
    "\"\"\"\n",
    "\"\"\" \n",
    "22.Answer) regex=re.compile(r'(Alice|Bob|Carol)\\s+(eats|pets|throws)\\s+(apples|cats|baseballs)\\.', re.IGNORECASE)\n",
    "Find the answer below\n",
    "\"\"\""
   ]
  },
  {
   "cell_type": "code",
   "execution_count": 6,
   "id": "b71f3d3a",
   "metadata": {},
   "outputs": [
    {
     "name": "stdout",
     "output_type": "stream",
     "text": [
      "[('Alice', 'eats', 'apples')]\n",
      "[('Bob', 'pets', 'cats')]\n",
      "[('Carol', 'throws', 'baseballs')]\n",
      "[('Alice', 'throws', 'Apples')]\n",
      "[('BOB', 'EATS', 'CATS')]\n",
      "[]\n",
      "[]\n",
      "[]\n"
     ]
    }
   ],
   "source": [
    "arr=['Alice eats apples.',\n",
    "'Bob pets cats.',\n",
    "'Carol throws baseballs.',\n",
    "'Alice throws Apples.',\n",
    "'BOB EATS CATS.',\n",
    "'RoboCop eats apples.',\n",
    "'ALICE THROWS FOOTBALLS.',\n",
    "'Carol eats 7 cats.']\n",
    "regex=re.compile(r'(Alice|Bob|Carol)\\s+(eats|pets|throws)\\s+(apples|cats|baseballs)\\.', re.IGNORECASE)\n",
    "for i in arr:\n",
    "    print(regex.findall(i))"
   ]
  }
 ],
 "metadata": {
  "kernelspec": {
   "display_name": "Python 3",
   "language": "python",
   "name": "python3"
  },
  "language_info": {
   "codemirror_mode": {
    "name": "ipython",
    "version": 3
   },
   "file_extension": ".py",
   "mimetype": "text/x-python",
   "name": "python",
   "nbconvert_exporter": "python",
   "pygments_lexer": "ipython3",
   "version": "3.8.8"
  }
 },
 "nbformat": 4,
 "nbformat_minor": 5
}
