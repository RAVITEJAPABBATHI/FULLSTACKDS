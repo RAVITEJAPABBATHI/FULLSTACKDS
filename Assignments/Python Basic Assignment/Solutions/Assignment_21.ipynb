{
 "cells": [
  {
   "cell_type": "markdown",
   "id": "353a114f",
   "metadata": {},
   "source": [
    "1. Add the current date to the text file today.txt as a string.\n",
    "2. Read the text file today.txt into the string today_string\n",
    "3. Parse the date from today_string.\n",
    "4. List the files in your current directory\n",
    "5. Create a list of all of the files in your parent directory (minimum five files should be available).\n",
    "6. Use multiprocessing to create three separate processes. Make each one wait a random number \n",
    "    of seconds between one and five, print the current time, and then exit.\n",
    "7. Create a date object of your day of birth.\n",
    "8. What day of the week was your day of birth?\n",
    "9. When will you be (or when were you) 10,000 days old?\n"
   ]
  },
  {
   "cell_type": "code",
   "execution_count": 1,
   "id": "02e6aacc",
   "metadata": {},
   "outputs": [],
   "source": [
    "\"\"\"\n",
    "1. Add the current date to the text file today.txt as a string.\n",
    "\"\"\"\n",
    "\n",
    "\"\"\"\n",
    "1.Answer)\n",
    "\"\"\"\n",
    "import datetime\n",
    "\n",
    "file=open(\"today.txt\",\"w\")\n",
    "file.write(datetime.date.today().strftime(\"%d/%m/%Y\"))\n",
    "file.close()"
   ]
  },
  {
   "cell_type": "code",
   "execution_count": 2,
   "id": "461e7320",
   "metadata": {},
   "outputs": [
    {
     "name": "stdout",
     "output_type": "stream",
     "text": [
      "27/02/2022\n"
     ]
    }
   ],
   "source": [
    "\"\"\"\n",
    "2. Read the text file today.txt into the string today_string\n",
    "\"\"\"\n",
    "\"\"\"\n",
    "2.Answer)\n",
    "\"\"\"\n",
    "file=open(\"today.txt\",\"r\")\n",
    "today_string=file.readline()\n",
    "print(today_string)"
   ]
  },
  {
   "cell_type": "code",
   "execution_count": 3,
   "id": "5d083244",
   "metadata": {},
   "outputs": [
    {
     "data": {
      "text/plain": [
       "datetime.datetime(2022, 2, 27, 0, 0)"
      ]
     },
     "execution_count": 3,
     "metadata": {},
     "output_type": "execute_result"
    }
   ],
   "source": [
    "\"\"\"\n",
    "3. Parse the date from today_string.\n",
    "\"\"\"\n",
    "\"\"\"\n",
    "3.Answer)\n",
    "\"\"\"\n",
    "from datetime import datetime\n",
    "datetime.strptime(today_string,\"%d/%m/%Y\")"
   ]
  },
  {
   "cell_type": "code",
   "execution_count": 4,
   "id": "34406877",
   "metadata": {},
   "outputs": [
    {
     "name": "stdout",
     "output_type": "stream",
     "text": [
      "['.ipynb_checkpoints', 'Assignment_1.ipynb', 'Assignment_10.ipynb', 'Assignment_11.ipynb', 'Assignment_12.ipynb', 'Assignment_13.ipynb', 'Assignment_14.ipynb', 'Assignment_15.ipynb', 'Assignment_16.ipynb', 'Assignment_17.ipynb', 'Assignment_18.ipynb', 'Assignment_19.ipynb', 'Assignment_2.ipynb', 'Assignment_20.ipynb', 'Assignment_21.ipynb', 'Assignment_3.ipynb', 'Assignment_4.ipynb', 'Assignment_5.ipynb', 'Assignment_6.ipynb', 'Assignment_7.ipynb', 'Assignment_8.ipynb', 'Assignment_9.ipynb', 'books.csv', 'books.db', 'books.sqllite', 'test.txt', 'today.txt', 'zoo.py', '__pycache__']\n"
     ]
    }
   ],
   "source": [
    "\"\"\"\n",
    "4. List the files in your current directory\n",
    "\"\"\"\n",
    "\"\"\"\n",
    "4.Answer)\n",
    "\"\"\"\n",
    "import os\n",
    "\n",
    "directory_list=os.listdir()\n",
    "print(directory_list)"
   ]
  },
  {
   "cell_type": "code",
   "execution_count": 5,
   "id": "e38711f4",
   "metadata": {},
   "outputs": [
    {
     "data": {
      "text/plain": [
       "['NominationFormA.pdf',\n",
       " 'Questions',\n",
       " 'Rent Receipt (1).docx',\n",
       " 'SANGAREDDY.jpg',\n",
       " 'SHANKARPALLI_RAMCHANDRAPURAM.jpg',\n",
       " 'Solutions']"
      ]
     },
     "execution_count": 5,
     "metadata": {},
     "output_type": "execute_result"
    }
   ],
   "source": [
    "\"\"\"\n",
    "5. Create a list of all of the files in your parent directory (minimum five files should be available).\n",
    "\"\"\"\n",
    "\"\"\"\n",
    "5.Answer)\n",
    "\"\"\"\n",
    "parent_dir=os.path.dirname(os.getcwd())\n",
    "os.listdir(parent_dir)"
   ]
  },
  {
   "cell_type": "code",
   "execution_count": null,
   "id": "65c4ec04",
   "metadata": {},
   "outputs": [],
   "source": [
    "\"\"\"\n",
    "6. Use multiprocessing to create three separate processes. Make each one wait a random number \n",
    "    of seconds between one and five, print the current time, and then exit.\n",
    "\"\"\"\n",
    "\"\"\"\n",
    "6.Answer)\n",
    "\"\"\"\n",
    "\n",
    "import random, time,datetime,multiprocessing\n",
    "def random_time():\n",
    "    random_delay=random.randint(1,5)\n",
    "    time.sleep(random_delay)\n",
    "    print(f'random_delay:{random_delay},datetime:{datetime.datetime.now()}')\n",
    "\n",
    "if __name__ == \"__main__\":\n",
    "    p1=multiprocessing.Process(target=random_time)\n",
    "    p2=multiprocessing.Process(target=random_time)\n",
    "    p3=multiprocessing.Process(target=random_time)\n",
    "    print(f'start time: {datetime.datetime.now()}')\n",
    "    p1.start()\n",
    "    p2.start()\n",
    "    p3.start()\n",
    "\n",
    "\"\"\"\n",
    "output: have executed in pycharm\n",
    "\n",
    "start time: 2022-02-27 23:02:18.891270\n",
    "random_delay:3,datetime:2022-02-27 23:02:22.077739\n",
    "random_delay:4,datetime:2022-02-27 23:02:23.073662\n",
    "random_delay:5,datetime:2022-02-27 23:02:24.069567\n",
    "\"\"\""
   ]
  },
  {
   "cell_type": "code",
   "execution_count": 7,
   "id": "c8411575",
   "metadata": {},
   "outputs": [
    {
     "name": "stdout",
     "output_type": "stream",
     "text": [
      "2000-01-13 00:00:00\n"
     ]
    }
   ],
   "source": [
    "\"\"\"\n",
    "7. Create a date object of your day of birth\n",
    "\"\"\"\n",
    "\"\"\"\n",
    "7.Answer)\n",
    "\"\"\"\n",
    "import datetime\n",
    "date_of_birth=datetime.datetime(2000,1,13)\n",
    "print(date_of_birth)"
   ]
  },
  {
   "cell_type": "code",
   "execution_count": 8,
   "id": "b6716d56",
   "metadata": {},
   "outputs": [
    {
     "name": "stdout",
     "output_type": "stream",
     "text": [
      "date of birth is on 3 day of the week and is Thursday\n"
     ]
    }
   ],
   "source": [
    "\"\"\"\n",
    "8. What day of the week was your day of birth?\n",
    "\"\"\"\n",
    "\"\"\"\n",
    "8.Answer)\n",
    "\"\"\"\n",
    "import calendar\n",
    "print(f'date of birth is on {date_of_birth.weekday()} day of the week and is {date_of_birth.strftime(\"%A\")}')\n"
   ]
  },
  {
   "cell_type": "code",
   "execution_count": 9,
   "id": "e6d4d420",
   "metadata": {},
   "outputs": [
    {
     "name": "stdout",
     "output_type": "stream",
     "text": [
      "I will be 10000 days old on 2027-05-31 00:00:00\n"
     ]
    }
   ],
   "source": [
    "\"\"\"\n",
    "9. When will you be (or when were you) 10,000 days old?\n",
    "\"\"\"\n",
    "\"\"\"\n",
    "9.Answer)\n",
    "\"\"\"\n",
    "import datetime\n",
    "time_delta=datetime.timedelta(days=10000)\n",
    "print(f'I will be 10000 days old on {date_of_birth+time_delta}')"
   ]
  }
 ],
 "metadata": {
  "kernelspec": {
   "display_name": "Python 3 (ipykernel)",
   "language": "python",
   "name": "python3"
  },
  "language_info": {
   "codemirror_mode": {
    "name": "ipython",
    "version": 3
   },
   "file_extension": ".py",
   "mimetype": "text/x-python",
   "name": "python",
   "nbconvert_exporter": "python",
   "pygments_lexer": "ipython3",
   "version": "3.8.12"
  }
 },
 "nbformat": 4,
 "nbformat_minor": 5
}
