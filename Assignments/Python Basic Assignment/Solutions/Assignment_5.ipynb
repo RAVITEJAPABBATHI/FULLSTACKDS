{
 "cells": [
  {
   "cell_type": "markdown",
   "id": "82302e4c",
   "metadata": {},
   "source": [
    "1. What does an empty dictionary's code look like?\n",
    "2. What is the value of a dictionary value with the key 'foo' and the value 42?\n",
    "3. What is the most significant distinction between a dictionary and a list?\n",
    "4. What happens if you try to access spam['foo'] if spam is {'bar': 100}?\n",
    "5. If a dictionary is stored in spam, what is the difference between the expressions 'cat' in spam and 'cat' in spam.keys()?\n",
    "6. If a dictionary is stored in spam, what is the difference between the expressions 'cat' in spam and 'cat' in spam.values()?\n",
    "7. What is a shortcut for the following code?\n",
    "if 'color' not in spam:\n",
    "spam['color'] = 'black'\n",
    "\n",
    "8. How do you \"pretty print\" dictionary values using which module and function?\n"
   ]
  },
  {
   "cell_type": "code",
   "execution_count": null,
   "id": "194f6c82",
   "metadata": {},
   "outputs": [],
   "source": [
    "\"\"\"\n",
    "1.What does an empty dictionary's code look like?\n",
    "\"\"\"\n",
    "\"\"\"\n",
    "1.Answer) Two curly brackets: {}\n",
    "\"\"\""
   ]
  },
  {
   "cell_type": "code",
   "execution_count": null,
   "id": "b515cb9e",
   "metadata": {},
   "outputs": [],
   "source": [
    "\"\"\"\n",
    "2.What is the value of a dictionary value with the key 'foo' and the value 42?\n",
    "\"\"\"\n",
    "\n",
    "\"\"\"\n",
    "2.Answer) {'foo': 42}\n",
    "\"\"\""
   ]
  },
  {
   "cell_type": "code",
   "execution_count": null,
   "id": "5a54673e",
   "metadata": {},
   "outputs": [],
   "source": [
    "\"\"\"\n",
    "3.What is the most significant distinction between a dictionary and a list?\n",
    "\"\"\"\n",
    "\"\"\"\n",
    "3.Answer) List stores items in order. Dictionary does not store items in order\n",
    "\"\"\""
   ]
  },
  {
   "cell_type": "code",
   "execution_count": null,
   "id": "b1247140",
   "metadata": {},
   "outputs": [],
   "source": [
    "\"\"\"\n",
    "4.What happens if you try to access spam['foo'] if spam is {'bar': 100}?\n",
    "\"\"\"\n",
    "\n",
    "\"\"\"\n",
    "4.Answer) \n",
    "    We get Key error since there is not value for key 'foo'\n",
    "\"\"\"\n"
   ]
  },
  {
   "cell_type": "code",
   "execution_count": null,
   "id": "0011b4e1",
   "metadata": {},
   "outputs": [],
   "source": [
    "\"\"\"\n",
    "5.If a dictionary is stored in spam, what is the difference between the expressions 'cat' in spam and 'cat' in spam.keys()?\n",
    "\"\"\"\n",
    "\n",
    "\"\"\"\n",
    "5.Answer) There is no difference. The in operator checks whether a value exists as a key in the dictionary.\n",
    "\"\"\"\n"
   ]
  },
  {
   "cell_type": "code",
   "execution_count": null,
   "id": "45c1be29",
   "metadata": {},
   "outputs": [],
   "source": [
    "\"\"\"\n",
    "6.If a dictionary is stored in spam, what is the difference between the expressions 'cat' in spam and 'cat' in spam.values()?\n",
    "\"\"\"\n",
    "\"\"\"\n",
    "6.Answer)\n",
    "        'cat' in spam checks whether there is a 'cat' key in the dictionary, \n",
    "        while 'cat' in spam.values() checks whether there is a value 'cat' for one of the keys in spam.\n",
    "\"\"\""
   ]
  },
  {
   "cell_type": "code",
   "execution_count": null,
   "id": "8b10e918",
   "metadata": {},
   "outputs": [],
   "source": [
    "\"\"\"\n",
    "7. What is a shortcut for the following code?\n",
    "    if 'color' not in spam:\n",
    "    spam['color'] = 'black'\n",
    "\n",
    "\"\"\"\n",
    "\"\"\"\n",
    "7.Answer) \n",
    "    spam.setdefault('color', 'black')\n",
    "\"\"\""
   ]
  },
  {
   "cell_type": "code",
   "execution_count": null,
   "id": "eff81684",
   "metadata": {},
   "outputs": [],
   "source": [
    "\"\"\"\n",
    "8.How do you \"pretty print\" dictionary values using which module and function?\n",
    "\"\"\"\n",
    "\"\"\"\n",
    "8.Answer)  Use pprint() to Pretty Print a Dictionary in Python. module:import pprint and function: pprint()\n",
    "\"\"\""
   ]
  }
 ],
 "metadata": {
  "kernelspec": {
   "display_name": "Python 3",
   "language": "python",
   "name": "python3"
  },
  "language_info": {
   "codemirror_mode": {
    "name": "ipython",
    "version": 3
   },
   "file_extension": ".py",
   "mimetype": "text/x-python",
   "name": "python",
   "nbconvert_exporter": "python",
   "pygments_lexer": "ipython3",
   "version": "3.8.8"
  }
 },
 "nbformat": 4,
 "nbformat_minor": 5
}
