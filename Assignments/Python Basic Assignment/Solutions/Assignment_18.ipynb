{
 "cells": [
  {
   "cell_type": "code",
   "execution_count": null,
   "id": "5a07e88e",
   "metadata": {},
   "outputs": [],
   "source": [
    "1. Create a zoo.py file first. Define the hours() function, which prints the string 'Open 9-5 daily'. \n",
    "    Then, use the interactive interpreter to import the zoo module and call its hours() function.\n",
    "2. In the interactive interpreter, import the zoo module as menagerie and call its hours() function.\n",
    "3. Using the interpreter, explicitly import and call the hours() function from zoo.\n",
    "4. Import the hours() function as info and call it.\n",
    "5. Create a plain dictionary with the key-value pairs 'a': 1, 'b': 2, and 'c': 3, and print it out.\n",
    "6.Make an OrderedDict called fancy from the same pairs listed in 5 and print it. \n",
    "  Did it print in the same order as plain?\n",
    "7. Make a default dictionary called dict_of_lists and pass it the argument list.\n",
    "   Make the list dict_of_lists['a'] and append the value 'something for a' to it in one assignment.\n",
    "   Print dict_of_lists['a'].\n"
   ]
  },
  {
   "cell_type": "code",
   "execution_count": 1,
   "id": "36b6e9c1",
   "metadata": {},
   "outputs": [
    {
     "name": "stdout",
     "output_type": "stream",
     "text": [
      "Open 9-5 daily\n"
     ]
    }
   ],
   "source": [
    "\"\"\"\n",
    "1. Create a zoo.py file first. Define the hours() function, which prints the string 'Open 9-5 daily'. \n",
    "    Then, use the interactive interpreter to import the zoo module and call its hours() function.\n",
    "\"\"\"\n",
    "\"\"\"\n",
    "1.Answer)\n",
    "\n",
    "import zoo\n",
    "\n",
    "zoo.hours()\n",
    "\"\"\"\n",
    "import zoo\n",
    "\n",
    "zoo.hours()"
   ]
  },
  {
   "cell_type": "code",
   "execution_count": 2,
   "id": "9a19047a",
   "metadata": {},
   "outputs": [
    {
     "name": "stdout",
     "output_type": "stream",
     "text": [
      "Open 9-5 daily\n"
     ]
    }
   ],
   "source": [
    "\"\"\"\n",
    "2. In the interactive interpreter, import the zoo module as menagerie and call its hours() function.\n",
    "\"\"\"\n",
    "\"\"\"\n",
    "2.Answer)\n",
    "\"\"\"\n",
    "import zoo as menagerie\n",
    "menagerie.hours()"
   ]
  },
  {
   "cell_type": "code",
   "execution_count": 4,
   "id": "6518dfe1",
   "metadata": {},
   "outputs": [
    {
     "name": "stdout",
     "output_type": "stream",
     "text": [
      "Open 9-5 daily\n"
     ]
    }
   ],
   "source": [
    "\"\"\"\n",
    "3. Using the interpreter, explicitly import and call the hours() function from zoo.\n",
    "\"\"\"\n",
    "\"\"\"\n",
    "3.Answer)\n",
    "\"\"\"\n",
    "from zoo import hours\n",
    "hours()"
   ]
  },
  {
   "cell_type": "code",
   "execution_count": 6,
   "id": "358a84a3",
   "metadata": {},
   "outputs": [
    {
     "name": "stdout",
     "output_type": "stream",
     "text": [
      "Open 9-5 daily\n"
     ]
    }
   ],
   "source": [
    "\"\"\"\n",
    "4. Import the hours() function as info and call it.\n",
    "\"\"\"\n",
    "\"\"\"\n",
    "4.Answer)\n",
    "\"\"\"\n",
    "from zoo import hours as info\n",
    "info()"
   ]
  },
  {
   "cell_type": "code",
   "execution_count": 7,
   "id": "e7bd5425",
   "metadata": {},
   "outputs": [
    {
     "name": "stdout",
     "output_type": "stream",
     "text": [
      "{'a': 1, 'b': 2, 'c': 3}\n"
     ]
    }
   ],
   "source": [
    "\"\"\"\n",
    "5. Create a plain dictionary with the key-value pairs 'a': 1, 'b': 2, and 'c': 3, and print it out.\n",
    "\"\"\"\n",
    "\"\"\"\n",
    "5.Answer)\n",
    "\"\"\"\n",
    "plain={'a': 1, 'b': 2, 'c': 3}\n",
    "print(plain)"
   ]
  },
  {
   "cell_type": "code",
   "execution_count": 9,
   "id": "1dbd5346",
   "metadata": {},
   "outputs": [
    {
     "name": "stdout",
     "output_type": "stream",
     "text": [
      "OrderedDict([('a', 1), ('b', 2), ('c', 3)])\n"
     ]
    }
   ],
   "source": [
    "\"\"\"\n",
    "6.Make an OrderedDict called fancy from the same pairs listed in 5 and print it. \n",
    "  Did it print in the same order as plain?\n",
    "\"\"\"\n",
    "\"\"\"\n",
    "6.Answer) Yes the order is same as plain this in context. But it might not be same usually,\n",
    "        the ordered dict stores the items in the order they are added to it.\n",
    "\"\"\"\n",
    "from collections import OrderedDict\n",
    "fancy=OrderedDict([('a',1),('b',2),('c',3)])\n",
    "print(fancy)"
   ]
  },
  {
   "cell_type": "code",
   "execution_count": 12,
   "id": "240737d3",
   "metadata": {},
   "outputs": [
    {
     "name": "stdout",
     "output_type": "stream",
     "text": [
      "['something for a']\n"
     ]
    }
   ],
   "source": [
    "\"\"\"\n",
    "7. Make a default dictionary called dict_of_lists and pass it the argument list.\n",
    "   Make the list dict_of_lists['a'] and append the value 'something for a' to it in one assignment.\n",
    "   Print dict_of_lists['a'].\n",
    "\n",
    "\"\"\"\n",
    "\"\"\"\n",
    "7.Answer)\n",
    "\"\"\"\n",
    "\n",
    "from collections import defaultdict\n",
    "dict_of_lists=defaultdict(list)\n",
    "dict_of_lists['a'].append('something for a')\n",
    "print(dict_of_lists['a'])"
   ]
  }
 ],
 "metadata": {
  "kernelspec": {
   "display_name": "Python 3 (ipykernel)",
   "language": "python",
   "name": "python3"
  },
  "language_info": {
   "codemirror_mode": {
    "name": "ipython",
    "version": 3
   },
   "file_extension": ".py",
   "mimetype": "text/x-python",
   "name": "python",
   "nbconvert_exporter": "python",
   "pygments_lexer": "ipython3",
   "version": "3.8.12"
  }
 },
 "nbformat": 4,
 "nbformat_minor": 5
}
