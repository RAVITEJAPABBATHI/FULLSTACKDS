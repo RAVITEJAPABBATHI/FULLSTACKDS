{
 "cells": [
  {
   "cell_type": "raw",
   "id": "475fbf1e",
   "metadata": {},
   "source": [
    "1.How many seconds are in an hour? Use the interactive interpreter as a calculator and multiply the   number of seconds in a minute (60) by the number of minutes in an hour (also 60).\n",
    "2. Assign the result from the previous task (seconds in an hour) to a variable called seconds_per_hour.\n",
    "3. How many seconds do you think there are in a day? Make use of the variables seconds per hour and minutes per hour.\n",
    "4. Calculate seconds per day again, but this time save the result in a variable called seconds_per_day\n",
    "5. Divide seconds_per_day by seconds_per_hour. Use floating-point (/) division.\n",
    "6. Divide seconds_per_day by seconds_per_hour, using integer (//) division. Did this number agree with the floating-point value from the previous question, aside from the final .0?\n",
    "7. Write a generator, genPrimes, that returns the sequence of prime numbers on successive calls to its next() method: 2, 3, 5, 7, 11, ...\n"
   ]
  },
  {
   "cell_type": "code",
   "execution_count": null,
   "id": "3134c704",
   "metadata": {},
   "outputs": [],
   "source": [
    "\"\"\"\n",
    "1.How many seconds are in an hour? Use the interactive interpreter as a calculator \n",
    "  and multiply the number of seconds in a minute (60) by the number of minutes in an hour (also 60).\n",
    "\"\"\"\n",
    "\"\"\"\n",
    "1.Answer)\n",
    "3600 seconds are in an hour.\n",
    "\n",
    "open command promt from the path where the python is installed. Type python and enter, Python\n",
    "interactive interpreter will be opened which can be used as a calculator\n",
    "\"\"\"\n"
   ]
  },
  {
   "cell_type": "code",
   "execution_count": 2,
   "id": "9b4aa0fa",
   "metadata": {},
   "outputs": [],
   "source": [
    "\"\"\"\n",
    "2. Assign the result from the previous task (seconds in an hour) to a variable called seconds_per_hour.\n",
    "\"\"\"\n",
    "\"\"\"\n",
    "2.Answer)\n",
    "\"\"\"\n",
    "seconds_per_hour=60*60"
   ]
  },
  {
   "cell_type": "code",
   "execution_count": 6,
   "id": "f0c63f47",
   "metadata": {},
   "outputs": [
    {
     "name": "stdout",
     "output_type": "stream",
     "text": [
      "seconds_per_day:86400\n"
     ]
    }
   ],
   "source": [
    "\"\"\"\n",
    "3. How many seconds do you think there are in a day? Make use of the variables seconds per hour\n",
    "    and minutes per hour.\n",
    "\"\"\"\n",
    "\"\"\"\n",
    "3.Answer) \n",
    "86400 seconds are in a day\n",
    "\"\"\"\n",
    "minutes_per_hour=60\n",
    "seconds_per_day=int(24*minutes_per_hour*seconds_per_hour/60)\n",
    "print(f'seconds_per_day:{seconds_per_day}')"
   ]
  },
  {
   "cell_type": "code",
   "execution_count": 5,
   "id": "a2effd0c",
   "metadata": {},
   "outputs": [
    {
     "name": "stdout",
     "output_type": "stream",
     "text": [
      "seconds_per_day:86400\n"
     ]
    }
   ],
   "source": [
    "\"\"\"\n",
    "4. Calculate seconds per day again, but this time save the result in a variable called seconds_per_day\n",
    "\"\"\"\n",
    "\"\"\"\n",
    "4.Answer)\n",
    "\"\"\"\n",
    "seconds_per_day=24*seconds_per_hour\n",
    "print(f'seconds_per_day:{seconds_per_day}')"
   ]
  },
  {
   "cell_type": "code",
   "execution_count": 7,
   "id": "3080c771",
   "metadata": {},
   "outputs": [
    {
     "name": "stdout",
     "output_type": "stream",
     "text": [
      "24.0\n"
     ]
    }
   ],
   "source": [
    "\"\"\"\n",
    "5. Divide seconds_per_day by seconds_per_hour. Use floating-point (/) division.\n",
    "\"\"\"\n",
    "\"\"\"\n",
    "5.Answer) seconds_per_day/seconds_per_hour\n",
    "\"\"\"\n",
    "print(seconds_per_day/seconds_per_hour)"
   ]
  },
  {
   "cell_type": "code",
   "execution_count": 8,
   "id": "ff31b7f9",
   "metadata": {},
   "outputs": [
    {
     "name": "stdout",
     "output_type": "stream",
     "text": [
      "24\n"
     ]
    }
   ],
   "source": [
    "\"\"\"\n",
    "6. Divide seconds_per_day by seconds_per_hour, using integer (//) division.\n",
    "Did this number agree with the floating-point value from the previous question,\n",
    "aside from the final .0?\n",
    "\"\"\"\n",
    "\n",
    "\"\"\"\n",
    "6.Answer)\n",
    "    Yes this number 24 agree with the floating point value 24.0 from the previous question\n",
    "    aside from the .0\n",
    "\"\"\"\n",
    "print(seconds_per_day//seconds_per_hour)"
   ]
  },
  {
   "cell_type": "code",
   "execution_count": 38,
   "id": "c077f179",
   "metadata": {},
   "outputs": [],
   "source": [
    "\"\"\"\n",
    "7. Write a generator, genPrimes, that returns the sequence of prime numbers on \n",
    "successive calls to its next() method: 2, 3, 5, 7, 11, ...\n",
    "\"\"\"\n",
    "\"\"\"\n",
    "7.Answer)\n",
    "\"\"\"\n",
    "def genPrimes():\n",
    "    n=2\n",
    "    while True:\n",
    "        flag=True\n",
    "        for i in range(2,int(n**0.5)+1):\n",
    "            if n==2:\n",
    "                yield n\n",
    "            elif n%i==0:\n",
    "                flag=False\n",
    "                break\n",
    "        if(flag):\n",
    "            yield n\n",
    "        n+=1"
   ]
  },
  {
   "cell_type": "code",
   "execution_count": 55,
   "id": "85fa3972",
   "metadata": {},
   "outputs": [],
   "source": [
    "primeGenerator=genPrimes()"
   ]
  },
  {
   "cell_type": "code",
   "execution_count": 56,
   "id": "d0a12fd2",
   "metadata": {},
   "outputs": [
    {
     "name": "stdout",
     "output_type": "stream",
     "text": [
      "2\n",
      "3\n",
      "5\n",
      "7\n",
      "11\n",
      "13\n",
      "17\n",
      "19\n",
      "23\n",
      "29\n"
     ]
    }
   ],
   "source": [
    "for i in range(10):\n",
    "    print(next(primeGenerator))"
   ]
  }
 ],
 "metadata": {
  "kernelspec": {
   "display_name": "Python 3 (ipykernel)",
   "language": "python",
   "name": "python3"
  },
  "language_info": {
   "codemirror_mode": {
    "name": "ipython",
    "version": 3
   },
   "file_extension": ".py",
   "mimetype": "text/x-python",
   "name": "python",
   "nbconvert_exporter": "python",
   "pygments_lexer": "ipython3",
   "version": "3.8.12"
  }
 },
 "nbformat": 4,
 "nbformat_minor": 5
}
