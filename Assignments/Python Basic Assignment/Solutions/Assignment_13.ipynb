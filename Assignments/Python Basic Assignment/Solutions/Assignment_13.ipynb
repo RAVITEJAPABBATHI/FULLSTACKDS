{
 "cells": [
  {
   "cell_type": "code",
   "execution_count": null,
   "id": "893a3e0d",
   "metadata": {},
   "outputs": [],
   "source": [
    "1. What advantages do Excel spreadsheets have over CSV spreadsheets?\n",
    "2. What do you pass to csv.reader() and csv.writer() to create reader and writer objects?\n",
    "3. What modes do File objects for reader and writer objects need to be opened in?\n",
    "4. What method takes a list argument and writes it to a CSV file?\n",
    "5. What do the keyword arguments delimiter and line terminator do?\n",
    "6. What function takes a string of JSON data and returns a Python data structure?\n",
    "7. What function takes a Python data structure and returns a string of JSON data?\n"
   ]
  },
  {
   "cell_type": "code",
   "execution_count": null,
   "id": "ee64b0fb",
   "metadata": {},
   "outputs": [],
   "source": [
    "\"\"\"\n",
    "1. What advantages do Excel spreadsheets have over CSV spreadsheets?\n",
    "\"\"\"\n",
    "\"\"\"\n",
    "1.Answer)\n",
    "    In Excel, spreadsheets can have values of data types other than strings,\n",
    "    cells can have different fonts, sizes, or color settings.\n",
    "    cells also can have varying widths and heights, adjacent cells can be merged and you can embed images and charts.\n",
    "\"\"\""
   ]
  },
  {
   "cell_type": "code",
   "execution_count": 9,
   "id": "ed61b5f7",
   "metadata": {},
   "outputs": [],
   "source": [
    "\"\"\"\n",
    "2.What do you pass to csv.reader() and csv.writer() to create reader and writer objects?\n",
    "\"\"\"\n",
    "\"\"\"\n",
    "2.Answer)\n",
    "    We pass a file object i.e \n",
    "    file=open(\"CsvTest.txt\")\n",
    "\"\"\"\n"
   ]
  },
  {
   "cell_type": "code",
   "execution_count": null,
   "id": "9fdffbbe",
   "metadata": {},
   "outputs": [],
   "source": [
    "\"\"\"\n",
    "3. What modes do File objects for reader and writer objects need to be opened in?\n",
    "\"\"\"\n",
    "\"\"\"\n",
    "3.Answer) \n",
    "\n",
    "File objects need to be opened in read-binary ('rb') for Reader objects and write-binary ('wb') for Writer objects.\n",
    "\"\"\""
   ]
  },
  {
   "cell_type": "code",
   "execution_count": null,
   "id": "9666c0da",
   "metadata": {},
   "outputs": [],
   "source": [
    "\"\"\"\n",
    "4. What method takes a list argument and writes it to a CSV file?\n",
    "\"\"\"\n",
    "\n",
    "\"\"\"\n",
    "4.Answer) The writerow() method of writer object\n",
    "\"\"\""
   ]
  },
  {
   "cell_type": "code",
   "execution_count": null,
   "id": "8e19bce3",
   "metadata": {},
   "outputs": [],
   "source": [
    "\"\"\"\n",
    "5. What do the keyword arguments delimiter and line terminator do?\n",
    "\"\"\"\n",
    "\"\"\"\n",
    "5.Answer) Delimiter:  changes the string used to separate cells in a row. \n",
    "          Terminator:  changes the string used to separate rows. \n",
    "\"\"\""
   ]
  },
  {
   "cell_type": "code",
   "execution_count": 11,
   "id": "e4fcfab8",
   "metadata": {},
   "outputs": [],
   "source": [
    "\"\"\"\n",
    "6. What function takes a string of JSON data and returns a Python data structure?\n",
    "\"\"\"\n",
    "\"\"\"\n",
    "6.Answer)\n",
    "    import json\n",
    "    json.loads()\n",
    "\"\"\""
   ]
  },
  {
   "cell_type": "code",
   "execution_count": null,
   "id": "008f93c0",
   "metadata": {},
   "outputs": [],
   "source": [
    "\"\"\"\n",
    "7. What function takes a Python data structure and returns a string of JSON data?\n",
    "\"\"\"\n",
    "\"\"\"\n",
    "7.Answer)\n",
    "    json.dumps()\n",
    "\"\"\""
   ]
  }
 ],
 "metadata": {
  "kernelspec": {
   "display_name": "Python 3 (ipykernel)",
   "language": "python",
   "name": "python3"
  },
  "language_info": {
   "codemirror_mode": {
    "name": "ipython",
    "version": 3
   },
   "file_extension": ".py",
   "mimetype": "text/x-python",
   "name": "python",
   "nbconvert_exporter": "python",
   "pygments_lexer": "ipython3",
   "version": "3.8.12"
  }
 },
 "nbformat": 4,
 "nbformat_minor": 5
}
