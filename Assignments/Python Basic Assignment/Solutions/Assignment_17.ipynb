{
 "cells": [
  {
   "cell_type": "code",
   "execution_count": null,
   "id": "d95c2013",
   "metadata": {},
   "outputs": [],
   "source": [
    "1. Assign the value 7 to the variable guess_me. \n",
    "    Then, write the conditional tests (if, else, and elif) to print the string 'too low' \n",
    "    if guess_me is less than 7, 'too high' if greater than 7, and 'just right' if equal to 7.\n",
    "2. Assign the value 7 to the variable guess_me and the value 1 to the variable start. \n",
    "    Write a while loop that compares start with guess_me. Print too low\n",
    "    if start is less than guess me. If start equals guess_me, print 'found it!' and \n",
    "    exit the loop. If start is greater than guess_me, print 'oops' and exit the loop.\n",
    "    Increment start at the end of the loop.\n",
    "3. Print the following values of the list [3, 2, 1, 0] using a for loop.\n",
    "4. Use a list comprehension to make a list of the even numbers in range(10)\n",
    "5. Use a dictionary comprehension to create the dictionary squares. \n",
    "    Use range(10) to return the keys, and use the square of each key as its value.\n",
    "6. Construct the set odd from the odd numbers in the range using a set comprehension (10).\n",
    "7. Use a generator comprehension to return the string 'Got ' \n",
    "    and a number for the numbers in range(10). Iterate through this by using a for loop.\n",
    "8. Define a function called good that returns the list ['Harry', 'Ron', 'Hermione'].\n",
    "9. Define a generator function called get_odds that returns the odd numbers from range(10). \n",
    "    Use a for loop to find and print the third value returned.\n",
    "10. Define an exception called OopsException. Raise this exception to see what happens. \n",
    "    Then write the code to catch this exception and print 'Caught an oops'.\n",
    "11. Use zip() to make a dictionary called movies that pairs these\n",
    "    lists: titles = ['Creature of Habit', 'Crewel Fate'] and \n",
    "    plots = ['A nun turns into a monster', 'A haunted yarn shop']."
   ]
  },
  {
   "cell_type": "code",
   "execution_count": 2,
   "id": "f17b8d22",
   "metadata": {},
   "outputs": [
    {
     "name": "stdout",
     "output_type": "stream",
     "text": [
      "just right\n"
     ]
    }
   ],
   "source": [
    "\"\"\"\n",
    "1. Assign the value 7 to the variable guess_me. \n",
    "    Then, write the conditional tests (if, else, and elif) to print the string 'too low' \n",
    "    if guess_me is less than 7, 'too high' if greater than 7, and 'just right' if equal to 7.\n",
    "\"\"\"\n",
    "\"\"\"\n",
    "1.Answer)\n",
    "\"\"\"\n",
    "guess_me=7\n",
    "if guess_me<7:\n",
    "    print('too low')\n",
    "elif guess_me>7:\n",
    "    print('too high')\n",
    "else:\n",
    "    print('just right')"
   ]
  },
  {
   "cell_type": "code",
   "execution_count": 6,
   "id": "d35c03b2",
   "metadata": {},
   "outputs": [
    {
     "name": "stdout",
     "output_type": "stream",
     "text": [
      "too low\n",
      "too low\n",
      "too low\n",
      "too low\n",
      "too low\n",
      "too low\n",
      "found it!\n"
     ]
    }
   ],
   "source": [
    "\"\"\"\n",
    "2. Assign the value 7 to the variable guess_me and the value 1 to the variable start. \n",
    "    Write a while loop that compares start with guess_me. Print too low\n",
    "    if start is less than guess me. If start equals guess_me, print 'found it!' and \n",
    "    exit the loop. If start is greater than guess_me, print 'oops' and exit the loop.\n",
    "    Increment start at the end of the loop.\n",
    "\"\"\"\n",
    "\"\"\"\n",
    "2.Answer)\n",
    "\"\"\"\n",
    "guess_me=7\n",
    "start=1\n",
    "while True:\n",
    "    if start<guess_me:\n",
    "        print('too low')\n",
    "    elif start==guess_me:\n",
    "        print('found it!')\n",
    "        break\n",
    "    elif start>guess_me:\n",
    "        print('oops')\n",
    "        break\n",
    "    start+=1"
   ]
  },
  {
   "cell_type": "code",
   "execution_count": 12,
   "id": "55d811c1",
   "metadata": {},
   "outputs": [
    {
     "name": "stdout",
     "output_type": "stream",
     "text": [
      "3\n",
      "2\n",
      "1\n",
      "0\n"
     ]
    }
   ],
   "source": [
    "\"\"\"\n",
    "3. Print the following values of the list [3, 2, 1, 0] using a for loop.\n",
    "\"\"\"\n",
    "\"\"\"\n",
    "3.Answer)\n",
    "\"\"\"\n",
    "#for i in range(3,-1,-1):\n",
    "#    print(i)\n",
    "    \n",
    "    \n",
    "   #or\n",
    "for i in [3, 2, 1, 0]:\n",
    "    print(i)"
   ]
  },
  {
   "cell_type": "code",
   "execution_count": 22,
   "id": "8e3ea844",
   "metadata": {},
   "outputs": [
    {
     "name": "stdout",
     "output_type": "stream",
     "text": [
      "[0, 2, 4, 6, 8]\n"
     ]
    }
   ],
   "source": [
    "\"\"\"\n",
    "4. Use a list comprehension to make a list of the even numbers in range(10)\n",
    "\"\"\"\n",
    "\"\"\"\n",
    "4.Answer)\n",
    "    [i for i in range(10) if i%2==0]\n",
    "\"\"\"\n",
    "even_numbers=[i for i in range(10) if i%2==0]\n",
    "print(even_numbers)"
   ]
  },
  {
   "cell_type": "code",
   "execution_count": 15,
   "id": "cd04f215",
   "metadata": {},
   "outputs": [
    {
     "name": "stdout",
     "output_type": "stream",
     "text": [
      "{0: 0, 1: 1, 2: 4, 3: 9, 4: 16, 5: 25, 6: 36, 7: 49, 8: 64, 9: 81}\n"
     ]
    }
   ],
   "source": [
    "\"\"\"\n",
    "5. Use a dictionary comprehension to create the dictionary squares. \n",
    "    Use range(10) to return the keys, and use the square of each key as its value.\n",
    "\"\"\"\n",
    "\"\"\"\n",
    "5.Answer) {i:i**2 for i in range(10)}\n",
    "\"\"\"\n",
    "squares_dict={i:i**2 for i in range(10)}\n",
    "print(squares_dict)"
   ]
  },
  {
   "cell_type": "code",
   "execution_count": 23,
   "id": "7355291f",
   "metadata": {},
   "outputs": [
    {
     "data": {
      "text/plain": [
       "{1, 3, 5, 7, 9}"
      ]
     },
     "execution_count": 23,
     "metadata": {},
     "output_type": "execute_result"
    }
   ],
   "source": [
    "\"\"\"\n",
    "6. Construct the set odd from the odd numbers in the range using a set comprehension (10).\n",
    "\"\"\"\n",
    "\"\"\"\n",
    "6.Answer)\n",
    "    {i for i in range(10) if i%2!=0}\n",
    "\"\"\"\n",
    "{i for i in range(10) if i%2!=0}"
   ]
  },
  {
   "cell_type": "code",
   "execution_count": 26,
   "id": "03238259",
   "metadata": {},
   "outputs": [
    {
     "name": "stdout",
     "output_type": "stream",
     "text": [
      "Got 0\n",
      "Got 1\n",
      "Got 2\n",
      "Got 3\n",
      "Got 4\n",
      "Got 5\n",
      "Got 6\n",
      "Got 7\n",
      "Got 8\n",
      "Got 9\n"
     ]
    }
   ],
   "source": [
    "\"\"\"\n",
    "7. Use a generator comprehension to return the string 'Got ' \n",
    "    and a number for the numbers in range(10). Iterate through this by using a for loop.\n",
    "\"\"\"\n",
    "\n",
    "\"\"\"\n",
    "7.Answer)\n",
    "    for j in ('Got '+str(i) for i in range(10)):\n",
    "    print(j)\n",
    "\"\"\"\n",
    "for j in ('Got '+str(i) for i in range(10)):\n",
    "    print(j)"
   ]
  },
  {
   "cell_type": "code",
   "execution_count": 28,
   "id": "c2de8a2e",
   "metadata": {},
   "outputs": [
    {
     "data": {
      "text/plain": [
       "['Harry', 'Ron', 'Hermione']"
      ]
     },
     "execution_count": 28,
     "metadata": {},
     "output_type": "execute_result"
    }
   ],
   "source": [
    "\"\"\"\n",
    "8. Define a function called good that returns the list ['Harry', 'Ron', 'Hermione'].\n",
    "\"\"\"\n",
    "\"\"\"\n",
    "8.Answer)\n",
    "\"\"\"\n",
    "def good():\n",
    "    return ['Harry', 'Ron', 'Hermione']\n",
    "good()"
   ]
  },
  {
   "cell_type": "code",
   "execution_count": 29,
   "id": "5b23d17e",
   "metadata": {},
   "outputs": [
    {
     "name": "stdout",
     "output_type": "stream",
     "text": [
      "5\n"
     ]
    }
   ],
   "source": [
    "\"\"\"\n",
    "9. Define a generator function called get_odds that returns the odd numbers from range(10). \n",
    "    Use a for loop to find and print the third value returned.\n",
    "\"\"\"\n",
    "\"\"\"\n",
    "9.Answer)\n",
    "\"\"\"\n",
    "\n",
    "def get_odds():\n",
    "    for i in range(10):\n",
    "        if i%2!=0:\n",
    "            yield i\n",
    "count=0\n",
    "for i in get_odds():\n",
    "    count+=1\n",
    "    if count==3:\n",
    "        print(i)\n",
    "        break"
   ]
  },
  {
   "cell_type": "code",
   "execution_count": 33,
   "id": "24296a9a",
   "metadata": {},
   "outputs": [
    {
     "name": "stdout",
     "output_type": "stream",
     "text": [
      "Caught in oops\n"
     ]
    }
   ],
   "source": [
    "\"\"\"\n",
    "10. Define an exception called OopsException. Raise this exception to see what happens. \n",
    "    Then write the code to catch this exception and print 'Caught an oops'.\n",
    "\"\"\"\n",
    "\"\"\"\n",
    "10.Answer)\n",
    "\"\"\"\n",
    "\n",
    "class OopsException(Exception):\n",
    "    pass\n",
    "\n",
    "try:\n",
    "    raise OopsException()\n",
    "except OopsException as e:\n",
    "    print('Caught in oops')\n",
    "    "
   ]
  },
  {
   "cell_type": "code",
   "execution_count": 35,
   "id": "12f2b53f",
   "metadata": {},
   "outputs": [
    {
     "name": "stdout",
     "output_type": "stream",
     "text": [
      "('Creature of Habit', 'A nun turns into a monster')\n",
      "('Crewel Fate', 'A haunted yarn shop')\n"
     ]
    }
   ],
   "source": [
    "\"\"\"\n",
    "11. Use zip() to make a dictionary called movies that pairs these\n",
    "    lists: titles = ['Creature of Habit', 'Crewel Fate'] and \n",
    "    plots = ['A nun turns into a monster', 'A haunted yarn shop'].\n",
    "\"\"\"\n",
    "\"\"\"\n",
    "11.Answer)\n",
    "\"\"\"\n",
    "titles = ['Creature of Habit', 'Crewel Fate']\n",
    "plots = ['A nun turns into a monster', 'A haunted yarn shop']\n",
    "pairs=zip(titles,plots)\n",
    "\n",
    "for i in pairs:\n",
    "    print(i)\n"
   ]
  }
 ],
 "metadata": {
  "kernelspec": {
   "display_name": "Python 3 (ipykernel)",
   "language": "python",
   "name": "python3"
  },
  "language_info": {
   "codemirror_mode": {
    "name": "ipython",
    "version": 3
   },
   "file_extension": ".py",
   "mimetype": "text/x-python",
   "name": "python",
   "nbconvert_exporter": "python",
   "pygments_lexer": "ipython3",
   "version": "3.8.12"
  }
 },
 "nbformat": 4,
 "nbformat_minor": 5
}
