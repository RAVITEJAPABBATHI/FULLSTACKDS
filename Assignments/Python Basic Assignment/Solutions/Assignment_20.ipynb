{
 "cells": [
  {
   "cell_type": "code",
   "execution_count": null,
   "id": "825e5901",
   "metadata": {},
   "outputs": [],
   "source": [
    "1. Set the variable test1 to the string 'This is a test of the emergency text system,' and\n",
    "    save test1 to a file named test.txt.\n",
    "2. Read the contents of the file test.txt into the variable test2.\n",
    "    Is there a difference between test 1 and test 2?\n",
    "3. Create a CSV file called books.csv by using these lines:\n",
    "    title,author,year\n",
    "    The Weirdstone of Brisingamen,Alan Garner,1960\n",
    "    Perdido Street Station,China Miéville,2000\n",
    "    Thud!,Terry Pratchett,2005\n",
    "    The Spellman Files,Lisa Lutz,2007\n",
    "    Small Gods,Terry Pratchett,1992\n",
    "4. Use the sqlite3 module to create a SQLite database called books.db, \n",
    "    and a table called books with these fields: title (text), author (text), and year (integer).\n",
    "5. Read books.csv and insert its data into the book table.\n",
    "6. Select and print the title column from the book table in alphabetical order.\n",
    "7. From the book table, select and print all columns in the order of publication.\n",
    "8. Use the sqlalchemy module to connect to the sqlite3 database books.db that \n",
    "    you just made in exercise 6.\n",
    "9. Install the Redis server and the Python redis library (pip install redis) on your computer. \n",
    "    Create a Redis hash called test with the fields count (1) and name ('Fester Bestertester'). \n",
    "    Print all the fields for test.\n",
    "10. Increment the count field of test and print it.\n",
    "\n"
   ]
  },
  {
   "cell_type": "code",
   "execution_count": 2,
   "id": "f3c60420",
   "metadata": {},
   "outputs": [],
   "source": [
    "\"\"\"\n",
    "1. Set the variable test1 to the string 'This is a test of the emergency text system,' and\n",
    "    save test1 to a file named test.txt.\n",
    "\"\"\"\n",
    "\"\"\"\n",
    "1.Answer)\n",
    "\"\"\"\n",
    "test1='This is a test of the emergency text system'\n",
    "file1=open('test.txt','w')\n",
    "file1.write(test1)\n",
    "file1.close()"
   ]
  },
  {
   "cell_type": "code",
   "execution_count": 4,
   "id": "823c3191",
   "metadata": {},
   "outputs": [
    {
     "name": "stdout",
     "output_type": "stream",
     "text": [
      "This is a test of the emergency text system\n"
     ]
    }
   ],
   "source": [
    "\"\"\"\n",
    "2. Read the contents of the file test.txt into the variable test2.\n",
    "    Is there a difference between test 1 and test 2?\n",
    "\"\"\"\n",
    "\"\"\"\n",
    "2.Answer) There is no difference between test1 and test2\n",
    "\"\"\"\n",
    "file2=open('test.txt','r')\n",
    "test2= file2.read()\n",
    "print(test2)\n",
    "file2.close()"
   ]
  },
  {
   "cell_type": "code",
   "execution_count": 42,
   "id": "8940c46f",
   "metadata": {},
   "outputs": [],
   "source": [
    "\"\"\"\n",
    "3. Create a CSV file called books.csv by using these lines:\n",
    "    title,author,year\n",
    "    The Weirdstone of Brisingamen,Alan Garner,1960\n",
    "    Perdido Street Station,China Miéville,2000\n",
    "    Thud!,Terry Pratchett,2005\n",
    "    The Spellman Files,Lisa Lutz,2007\n",
    "    Small Gods,Terry Pratchett,1992\n",
    "\"\"\"\n",
    "\n",
    "\"\"\"\n",
    "3.Answer)\n",
    "\"\"\"\n",
    "csvFile=open('books.csv','w')\n",
    "text=f\"\"\"title,author,year\n",
    "The Weirdstone of Brisingamen,Alan Garner,1960\n",
    "Perdido Street Station,China Miéville,2000\n",
    "Thud!,Terry Pratchett,2005\n",
    "The Spellman Files,Lisa Lutz,2007\n",
    "Small Gods,Terry Pratchett,1992\n",
    "\"\"\"\n",
    "csvFile.writelines(text)\n",
    "csvFile.close()"
   ]
  },
  {
   "cell_type": "code",
   "execution_count": 3,
   "id": "35197b2f",
   "metadata": {},
   "outputs": [
    {
     "data": {
      "text/plain": [
       "<sqlite3.Cursor at 0x1e49007b500>"
      ]
     },
     "execution_count": 3,
     "metadata": {},
     "output_type": "execute_result"
    }
   ],
   "source": [
    "\"\"\"\n",
    "4. Use the sqlite3 module to create a SQLite database called books.db, \n",
    "    and a table called books with these fields: title (text), author (text), and year (integer).\n",
    "\"\"\"\n",
    "\"\"\"\n",
    "4.Answer)\n",
    "\"\"\"\n",
    "import sqlite3\n",
    "\n",
    "con=sqlite3.connect('books.db')\n",
    "cur=con.cursor()\n",
    "cur.execute(\"\"\"\n",
    "            CREATE TABLE BOOKS (title text,author text, year real)\"\"\")"
   ]
  },
  {
   "cell_type": "code",
   "execution_count": 4,
   "id": "3f1da375",
   "metadata": {},
   "outputs": [],
   "source": [
    "\"\"\"\n",
    "5. Read books.csv and insert its data into the book table.\n",
    "\"\"\"\n",
    "\"\"\"\n",
    "5.Answer)\n",
    "\"\"\"\n",
    "bookscsv=open('books.csv','r')\n",
    "for line in bookscsv.readlines():\n",
    "    title,author,year=line.split(',')\n",
    "    try:\n",
    "        cur.execute(f'Insert into BOOKS values{title,author,int(year)}')\n",
    "    except Exception as e:\n",
    "        continue\n",
    "    "
   ]
  },
  {
   "cell_type": "code",
   "execution_count": 6,
   "id": "31922f9a",
   "metadata": {},
   "outputs": [
    {
     "name": "stdout",
     "output_type": "stream",
     "text": [
      "('The Weirdstone of Brisingamen', 'Alan Garner', 1960.0)\n",
      "('Perdido Street Station', 'China Miéville', 2000.0)\n",
      "('Thud!', 'Terry Pratchett', 2005.0)\n",
      "('The Spellman Files', 'Lisa Lutz', 2007.0)\n",
      "('Small Gods', 'Terry Pratchett', 1992.0)\n"
     ]
    }
   ],
   "source": [
    "for i in cur.execute('select * From BOOKS'):\n",
    "    print(i)"
   ]
  },
  {
   "cell_type": "code",
   "execution_count": 7,
   "id": "3cc2a601",
   "metadata": {},
   "outputs": [
    {
     "name": "stdout",
     "output_type": "stream",
     "text": [
      "('Perdido Street Station', 'China Miéville', 2000.0)\n",
      "('Small Gods', 'Terry Pratchett', 1992.0)\n",
      "('The Spellman Files', 'Lisa Lutz', 2007.0)\n",
      "('The Weirdstone of Brisingamen', 'Alan Garner', 1960.0)\n",
      "('Thud!', 'Terry Pratchett', 2005.0)\n"
     ]
    }
   ],
   "source": [
    "\"\"\"\n",
    "6. Select and print the title column from the book table in alphabetical order.\n",
    "\"\"\"\n",
    "\"\"\"\n",
    "6.Answer)\n",
    "\"\"\"\n",
    "for i in cur.execute('select * From BOOKS order by title'):\n",
    "    print(i)"
   ]
  },
  {
   "cell_type": "code",
   "execution_count": 8,
   "id": "98265e4d",
   "metadata": {},
   "outputs": [
    {
     "name": "stdout",
     "output_type": "stream",
     "text": [
      "('The Weirdstone of Brisingamen', 'Alan Garner', 1960.0)\n",
      "('Small Gods', 'Terry Pratchett', 1992.0)\n",
      "('Perdido Street Station', 'China Miéville', 2000.0)\n",
      "('Thud!', 'Terry Pratchett', 2005.0)\n",
      "('The Spellman Files', 'Lisa Lutz', 2007.0)\n"
     ]
    }
   ],
   "source": [
    "\"\"\"\n",
    "7. From the book table, select and print all columns in the order of publication.\n",
    "\"\"\"\n",
    "\"\"\"\n",
    "7.Answer)\n",
    "\"\"\"\n",
    "for i in cur.execute('select * From BOOKS order by year'):\n",
    "    print(i)"
   ]
  },
  {
   "cell_type": "code",
   "execution_count": 2,
   "id": "92e970d4",
   "metadata": {},
   "outputs": [
    {
     "ename": "NameError",
     "evalue": "name 'dbpath' is not defined",
     "output_type": "error",
     "traceback": [
      "\u001b[1;31m---------------------------------------------------------------------------\u001b[0m",
      "\u001b[1;31mNameError\u001b[0m                                 Traceback (most recent call last)",
      "\u001b[1;32m~\\AppData\\Local\\Temp/ipykernel_14164/2879134994.py\u001b[0m in \u001b[0;36m<module>\u001b[1;34m\u001b[0m\n\u001b[0;32m      9\u001b[0m \u001b[1;32mfrom\u001b[0m \u001b[0msqlalchemy\u001b[0m \u001b[1;32mimport\u001b[0m \u001b[0mcreate_engine\u001b[0m\u001b[1;33m,\u001b[0m \u001b[0mMetaData\u001b[0m\u001b[1;33m,\u001b[0m \u001b[0mTable\u001b[0m\u001b[1;33m\u001b[0m\u001b[1;33m\u001b[0m\u001b[0m\n\u001b[0;32m     10\u001b[0m \u001b[0mdbPath\u001b[0m\u001b[1;33m=\u001b[0m\u001b[1;34m'books.sqllite'\u001b[0m\u001b[1;33m\u001b[0m\u001b[1;33m\u001b[0m\u001b[0m\n\u001b[1;32m---> 11\u001b[1;33m \u001b[0mengine\u001b[0m \u001b[1;33m=\u001b[0m \u001b[0mcreate_engine\u001b[0m\u001b[1;33m(\u001b[0m\u001b[1;34mf'sqlite://{dbpath}'\u001b[0m\u001b[1;33m,\u001b[0m \u001b[0mecho\u001b[0m\u001b[1;33m=\u001b[0m\u001b[1;32mTrue\u001b[0m\u001b[1;33m)\u001b[0m\u001b[1;33m\u001b[0m\u001b[1;33m\u001b[0m\u001b[0m\n\u001b[0m\u001b[0;32m     12\u001b[0m \u001b[1;33m\u001b[0m\u001b[0m\n\u001b[0;32m     13\u001b[0m \u001b[0mmetadata\u001b[0m \u001b[1;33m=\u001b[0m \u001b[0mMetaData\u001b[0m\u001b[1;33m(\u001b[0m\u001b[0mengine\u001b[0m\u001b[1;33m)\u001b[0m\u001b[1;33m\u001b[0m\u001b[1;33m\u001b[0m\u001b[0m\n",
      "\u001b[1;31mNameError\u001b[0m: name 'dbpath' is not defined"
     ]
    }
   ],
   "source": [
    "\"\"\"\n",
    "8. Use the sqlalchemy module to connect to the sqlite3 database books.db that \n",
    "    you just made in exercise 6.\n",
    "\"\"\"\n",
    "\n",
    "\"\"\"\n",
    "8.Answer\n",
    "\"\"\"\n",
    "from sqlalchemy import create_engine, MetaData, Table\n",
    "dbPath='books.sqllite'\n",
    "engine = create_engine(f'sqlite://{dbpath}', echo=True)\n",
    "\n",
    "metadata = MetaData(engine)\n",
    "moz_bookmarks = Table('BOOKS', metadata, autoload=True)\n",
    "mapper(Bookmarks, moz_bookmarks)"
   ]
  },
  {
   "cell_type": "code",
   "execution_count": null,
   "id": "c7484b96",
   "metadata": {},
   "outputs": [],
   "source": []
  }
 ],
 "metadata": {
  "kernelspec": {
   "display_name": "Python 3 (ipykernel)",
   "language": "python",
   "name": "python3"
  },
  "language_info": {
   "codemirror_mode": {
    "name": "ipython",
    "version": 3
   },
   "file_extension": ".py",
   "mimetype": "text/x-python",
   "name": "python",
   "nbconvert_exporter": "python",
   "pygments_lexer": "ipython3",
   "version": "3.8.12"
  }
 },
 "nbformat": 4,
 "nbformat_minor": 5
}
