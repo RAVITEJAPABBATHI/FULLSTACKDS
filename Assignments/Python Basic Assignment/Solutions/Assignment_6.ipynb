{
 "cells": [
  {
   "cell_type": "markdown",
   "id": "bf43eeae",
   "metadata": {},
   "source": [
    "1. What are escape characters, and how do you use them?\n",
    "2. What do the escape characters n and t stand for?\n",
    "3. What is the way to include backslash characters in a string?\n",
    "4. The string \"Howl's Moving Castle\" is a correct value. Why isn't the single quote character in the word Howl's not escaped a problem?\n",
    "5. How do you write a string of newlines if you don't want to use the n character?\n",
    "6. What are the values of the given expressions?\n",
    "'Hello, world!'[1]\n",
    "'Hello, world!'[0:5]\n",
    "'Hello, world!'[:5]\n",
    "'Hello, world!'[3:]\n",
    "\n",
    "7. What are the values of the following expressions?\n",
    "'Hello'.upper()\n",
    "'Hello'.upper().isupper()\n",
    "'Hello'.upper().lower()\n",
    "8. What are the values of the following expressions?\n",
    "'Remember, remember, the fifth of July.'.split()\n",
    "'-'.join('There can only one.'.split())\n",
    "9. What are the methods for right-justifying, left-justifying, and centering a string?\n",
    "10. What is the best way to remove whitespace characters from the start or end?\n"
   ]
  },
  {
   "cell_type": "code",
   "execution_count": null,
   "id": "50ba2fa6",
   "metadata": {},
   "outputs": [],
   "source": [
    "\"\"\"\n",
    "1.What are escape characters, and how do you use them?\n",
    "\"\"\"\n",
    "\"\"\"\n",
    "1.Answer) The sequence of character which has different\n",
    "    meaning when it placed within double quotes. The escape \n",
    "    character are used to insert illegal characters inside a string.\n",
    "    Eg: \\t, \\n\n",
    "    \n",
    "    They are used as below\n",
    "    \"Hello\\tWorld!\"\n",
    "\"\"\""
   ]
  },
  {
   "cell_type": "code",
   "execution_count": null,
   "id": "bf7b236b",
   "metadata": {},
   "outputs": [],
   "source": [
    "\"\"\"\n",
    "2.What do the escape characters n and t stand for?\n",
    "\"\"\"\n",
    "\"\"\"\n",
    "2.Answer) Escape character\n",
    "        n : stand for new line. When this is used it creates a new line\n",
    "        t: stand for tab space. When this is used a tab space is created\n",
    "\"\"\""
   ]
  },
  {
   "cell_type": "code",
   "execution_count": null,
   "id": "09b69b9c",
   "metadata": {},
   "outputs": [],
   "source": [
    "\"\"\"\n",
    "3.What is the way to include backslash characters in a string?\n",
    "\"\"\"\n",
    "\"\"\"\n",
    "3.Answer) If you want to include back slash character in a string \n",
    "then it should be used as \\\\ or @ has to be used for the entire string.\n",
    "\n",
    "Eg: test = \"\\\\Tasks\"\n",
    "or \n",
    "test = @\"\\Tasks\"\n",
    "\n",
    "\"\"\""
   ]
  },
  {
   "cell_type": "code",
   "execution_count": null,
   "id": "706b61e5",
   "metadata": {},
   "outputs": [],
   "source": [
    "\"\"\"\n",
    "4.The string \"Howl's Moving Castle\" is a correct value.\n",
    "Why isn't the single quote character in the word Howl's not escaped a problem?\n",
    "\"\"\"\n",
    "\"\"\"\n",
    "4.Answer) The single quote character has not encountered a problem because\n",
    "entire string is inside double quotes(\"\")\n",
    "\"\"\""
   ]
  },
  {
   "cell_type": "code",
   "execution_count": 10,
   "id": "834e30b1",
   "metadata": {},
   "outputs": [
    {
     "name": "stdout",
     "output_type": "stream",
     "text": [
      "Hello\r\n",
      "world\n"
     ]
    }
   ],
   "source": [
    "import os\n",
    "\"\"\"\n",
    "5.How do you write a string of newlines if you don't want to \n",
    "use the n character?\n",
    "\"\"\"\n",
    "\"\"\"\n",
    "5.Answer) We can import os and use the os.linesep in it as below\n",
    "\"\"\"\n",
    "print(\"Hello\"+os.linesep+\"world\")"
   ]
  },
  {
   "cell_type": "code",
   "execution_count": null,
   "id": "6f3fa235",
   "metadata": {},
   "outputs": [],
   "source": [
    "\"\"\"\n",
    "6.What are the values of the given expressions? \n",
    "'Hello, world!'[1] 'Hello, world!'[0:5] 'Hello, world!'[:5] 'Hello, world!'[3:]\n",
    "\"\"\"\n",
    "\n",
    "\"\"\"\n",
    "6.Answer)\n",
    "'Hello, world!'[1]       is e\n",
    "'Hello, world!'[0:5]     is Hello\n",
    "'Hello, world!'[:5]      is Hello\n",
    "'Hello, world!'[3:]      is lo, world!\n",
    "\n",
    "\"\"\""
   ]
  },
  {
   "cell_type": "code",
   "execution_count": null,
   "id": "456ba69d",
   "metadata": {},
   "outputs": [],
   "source": [
    "\"\"\"\n",
    "7.What are the values of the following expressions?\n",
    "'Hello'.upper() \n",
    "'Hello'.upper().isupper() \n",
    "'Hello'.upper().lower()\n",
    "\"\"\"\n",
    "\n",
    "\"\"\"\n",
    "7.Answer)\n",
    " 'Hello'.upper()            is HELLO\n",
    "'Hello'.upper().isupper()   is True\n",
    "'Hello'.upper().lower()     is hello\n",
    "\"\"\""
   ]
  },
  {
   "cell_type": "code",
   "execution_count": null,
   "id": "3a3bdbc0",
   "metadata": {},
   "outputs": [],
   "source": [
    "\"\"\"\n",
    "8.What are the values of the following expressions?\n",
    "'Remember, remember, the fifth of July.'.split() \n",
    "'-'.join('There can only one.'.split())\n",
    "\"\"\"\n",
    "\"\"\"\n",
    "8.Answer)\n",
    "['Remember,', 'remember,', 'the', 'fifth', 'of', 'July.']\n",
    "'There-can-only-one.'\n",
    "\"\"\""
   ]
  },
  {
   "cell_type": "code",
   "execution_count": null,
   "id": "fc5919a6",
   "metadata": {},
   "outputs": [],
   "source": [
    "\"\"\"\n",
    "9.What are the methods for right-justifying, left-justifying, and centering a string?\n",
    "\"\"\"\n",
    "\"\"\"\n",
    "9.Answer) The methods for right-justifying, left-justifying, and centering a string are\n",
    "        ljust():\n",
    "                This function left aligns the string according to the width specified and fills \n",
    "                remaining space of line with blank space of no fillchr argument is passed.\n",
    "        rjust():\n",
    "                This function right aligns the string according to the width specified and fills \n",
    "                remaining space of line with blank space of no fillchr argument is passed.\n",
    "        center():\n",
    "                This function center aligns the string according to the width specified and fills \n",
    "                remaining space of line with blank space of no fillchr argument is passed.\n",
    "\"\"\""
   ]
  },
  {
   "cell_type": "code",
   "execution_count": 18,
   "id": "427cd1cf",
   "metadata": {},
   "outputs": [
    {
     "data": {
      "text/plain": [
       "'Test'"
      ]
     },
     "execution_count": 18,
     "metadata": {},
     "output_type": "execute_result"
    }
   ],
   "source": [
    "\"\"\"\n",
    "10.What is the best way to remove whitespace characters from the start or end?\n",
    "\"\"\"\n",
    "\"\"\"\n",
    "10.Answer) By using strip function. Eg: \" Test \".strip()\n",
    "\"\"\"\n",
    "\" Test \".strip()"
   ]
  }
 ],
 "metadata": {
  "kernelspec": {
   "display_name": "Python 3",
   "language": "python",
   "name": "python3"
  },
  "language_info": {
   "codemirror_mode": {
    "name": "ipython",
    "version": 3
   },
   "file_extension": ".py",
   "mimetype": "text/x-python",
   "name": "python",
   "nbconvert_exporter": "python",
   "pygments_lexer": "ipython3",
   "version": "3.8.8"
  }
 },
 "nbformat": 4,
 "nbformat_minor": 5
}
