{
 "cells": [
  {
   "cell_type": "markdown",
   "id": "0b2ee5b2",
   "metadata": {},
   "source": [
    "1. How do you distinguish between shutil.copy() and shutil.copytree()?\n",
    "2. What function is used to rename files?\n",
    "3. What is the difference between the delete functions in the send2trash and shutil modules?\n",
    "4.ZipFile objects have a close() method just like File objects’ close() method. What ZipFile method is equivalent to File objects’ open() method?\n",
    "5. Create a programme that searches a folder tree for files with a certain file extension (such as .pdf or .jpg). Copy these files from whatever location they are in to a new folder.\n",
    "\n"
   ]
  },
  {
   "cell_type": "code",
   "execution_count": null,
   "id": "5765774a",
   "metadata": {},
   "outputs": [],
   "source": [
    "\"\"\"\n",
    "1. How do you distinguish between shutil.copy() and shutil.copytree()?\n",
    "\"\"\"\n",
    "\n",
    "\"\"\"\n",
    "1.Answer)\n",
    "    While shutil.copy() will copy a single file, \n",
    "    shutil.copytree() will copy an entire folder and every folder and file contained in it.\n",
    "\"\"\""
   ]
  },
  {
   "cell_type": "code",
   "execution_count": null,
   "id": "9765262f",
   "metadata": {},
   "outputs": [],
   "source": [
    "\"\"\"\n",
    "2. What function is used to rename files?\n",
    "\"\"\"\n",
    "\"\"\"\n",
    "2.Answer) \n",
    "    os.rename(src, dst) can be used to rename the file\n",
    "\"\"\""
   ]
  },
  {
   "cell_type": "code",
   "execution_count": null,
   "id": "7776aa6e",
   "metadata": {},
   "outputs": [],
   "source": [
    "\"\"\"\n",
    "3. What is the difference between the delete functions in the send2trash and shutil modules?\n",
    "\"\"\"\n",
    "\"\"\"\n",
    "3.Answer) \n",
    "        send2trash functions will move a file or folder to the recycle bin,\n",
    "        shutil functions will permanently delete files and folders.\n",
    "\"\"\""
   ]
  },
  {
   "cell_type": "code",
   "execution_count": null,
   "id": "1df2d3cb",
   "metadata": {},
   "outputs": [],
   "source": [
    "\"\"\"\n",
    "4.ZipFile objects have a close() method just like File objects’ close() method. \n",
    "  What ZipFile method is equivalent to File objects’ open() method?\n",
    "\"\"\"\n",
    "\"\"\"\n",
    "4.Answer)\n",
    "    The zipfile.ZipFile() function is equivalent to the open() function,\n",
    "    the first argument is the filename, and the second argument \n",
    "    is the mode to open the ZIP file in (read, write, or append).\n",
    "\"\"\""
   ]
  },
  {
   "cell_type": "code",
   "execution_count": null,
   "id": "e9f99d75",
   "metadata": {},
   "outputs": [],
   "source": [
    "\"\"\"\n",
    "5. Create a programme that searches a folder tree for files with a certain file extension (such as .pdf or .jpg). \n",
    "Copy these files from whatever location they are in to a new folder.\n",
    "\"\"\"\n",
    "\n",
    "\"\"\"\n",
    "5.Answers) The answer is below\n",
    "    \n",
    "\"\"\""
   ]
  },
  {
   "cell_type": "code",
   "execution_count": 29,
   "id": "200d15ed",
   "metadata": {},
   "outputs": [],
   "source": [
    "#5.Answers\n",
    "import os,shutil\n",
    "def CopyFiles(source,dest,filetypes):\n",
    "    sourcepath=os.path.abspath(source)\n",
    "    destpath=os.path.abspath(dest)\n",
    "    for folder,subfolder,files in os.walk(sourcepath):\n",
    "        for file in files:\n",
    "            filename,ext=os.path.splitext(file)\n",
    "            sourcefilepath=os.path.join(folder,file)\n",
    "            print(sourcefilepath)\n",
    "            if ext.lower() in filetypes.split(','):\n",
    "                shutil.copy(sourcefilepath,destpath)\n",
    "                print('copied')\n",
    "            else:\n",
    "                print('Not copied')\n",
    "    "
   ]
  },
  {
   "cell_type": "code",
   "execution_count": null,
   "id": "390471db",
   "metadata": {},
   "outputs": [],
   "source": [
    "Copyfiles('F:\\Test\\Source','F:\\Test\\Dest','.pdf,.jpg')"
   ]
  }
 ],
 "metadata": {
  "kernelspec": {
   "display_name": "Python 3",
   "language": "python",
   "name": "python3"
  },
  "language_info": {
   "codemirror_mode": {
    "name": "ipython",
    "version": 3
   },
   "file_extension": ".py",
   "mimetype": "text/x-python",
   "name": "python",
   "nbconvert_exporter": "python",
   "pygments_lexer": "ipython3",
   "version": "3.8.8"
  }
 },
 "nbformat": 4,
 "nbformat_minor": 5
}
