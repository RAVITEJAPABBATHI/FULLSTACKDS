{
 "cells": [
  {
   "cell_type": "markdown",
   "id": "96947f19",
   "metadata": {},
   "source": [
    "1. To what does a relative path refer?\n",
    "2. What does an absolute path start with your operating system?\n",
    "3. What do the functions os.getcwd() and os.chdir() do?\n",
    "4. What are the . and .. folders?\n",
    "5. In C:\\bacon\\eggs\\spam.txt, which part is the dir name, and which part is the base name?\n",
    "6. What are the three “mode” arguments that can be passed to the open() function?\n",
    "7. What happens if an existing file is opened in write mode?\n",
    "8. How do you tell the difference between read() and readlines()?\n",
    "9. What data structure does a shelf value resemble?\n"
   ]
  },
  {
   "cell_type": "code",
   "execution_count": null,
   "id": "58ed3e5a",
   "metadata": {},
   "outputs": [],
   "source": [
    "\"\"\"\n",
    "1. To what does a relative path refer?\n",
    "\"\"\"\n",
    "\"\"\"\n",
    "1.Answer) \n",
    "    A relative path refers to a location that is relative to a current directory.\n",
    "    Relative paths make use of two special symbols, a dot (.) and a double-dot (..),\n",
    "    which are the current directory and the parent directory respectively.\n",
    "\"\"\""
   ]
  },
  {
   "cell_type": "code",
   "execution_count": null,
   "id": "645ca4d6",
   "metadata": {},
   "outputs": [],
   "source": [
    "\"\"\"\n",
    "2. What does an absolute path start with your operating system?\n",
    "\"\"\"\n",
    "\n",
    "\"\"\"\n",
    "    An absolute path is a path that contains the entire path to the file or directory \n",
    "    that you need to access.This path will begin at the home directory of your computer .\n",
    "    Absolute paths are used in operating systems for locating files and folders.\n",
    "    An absolute path is also known as an absolute pathname or full path.\n",
    "\"\"\""
   ]
  },
  {
   "cell_type": "code",
   "execution_count": null,
   "id": "1ffdf347",
   "metadata": {},
   "outputs": [],
   "source": [
    "\"\"\"\n",
    "3. What do the functions os.getcwd() and os.chdir() do?\n",
    "\"\"\"\n",
    "\"\"\"\n",
    "3.answer)\n",
    "    os.getcwd() gives your the current working directory\n",
    "    os.chdir() is used to change the current working directory to specified path\n",
    "\"\"\"\n"
   ]
  },
  {
   "cell_type": "code",
   "execution_count": null,
   "id": "3bd1ab48",
   "metadata": {},
   "outputs": [],
   "source": [
    "\"\"\"\n",
    "4. What are the . and .. folders?\n",
    "\"\"\"\n",
    "\"\"\"\n",
    "4.Answer) \n",
    "    . is the current directory, .. is the parent directory.\n",
    "\"\"\""
   ]
  },
  {
   "cell_type": "code",
   "execution_count": null,
   "id": "7792898e",
   "metadata": {},
   "outputs": [],
   "source": [
    "\"\"\"\n",
    "5. In C:\\bacon\\eggs\\spam.txt, which part is the dir name, and which part is the base name?\n",
    "\"\"\"\n",
    "\"\"\"\n",
    "5.Answer) \n",
    "        C:\\bacon\\eggs is the dir name\n",
    "        spam.txt is the base name\n",
    "\n",
    "\"\"\""
   ]
  },
  {
   "cell_type": "code",
   "execution_count": null,
   "id": "802e71f6",
   "metadata": {},
   "outputs": [],
   "source": [
    "\"\"\"\n",
    "6. What are the three “mode” arguments that can be passed to the open() function?\n",
    "\"\"\"\n",
    "\"\"\"\n",
    "6.Answer) 3 modes.\n",
    "            read - 'r'\n",
    "            write - 'w' , there is also w+ which allows us to read as well as write\n",
    "            append - 'a' , there is also a+ which allows us to read and also append\n",
    "\"\"\""
   ]
  },
  {
   "cell_type": "code",
   "execution_count": null,
   "id": "b6414a91",
   "metadata": {},
   "outputs": [],
   "source": [
    "\"\"\"\n",
    "7. What happens if an existing file is opened in write mode?\n",
    "\"\"\"\n",
    "\"\"\"\n",
    "7.Answer) \n",
    "    If an existing file is opened in write mode all the previous content inside the file is erased \n",
    "    and only what ever new data is added will be over writing it\n",
    "\"\"\""
   ]
  },
  {
   "cell_type": "code",
   "execution_count": null,
   "id": "ab63c103",
   "metadata": {},
   "outputs": [],
   "source": [
    "\"\"\"\n",
    "8. How do you tell the difference between read() and readlines()?\n",
    "\"\"\"\n",
    "\"\"\"\n",
    "8.Answer) \n",
    "    read() : returns the file's entire contents as a single string value.\n",
    "    readlines() : returns a list of strings, where each string is a line from the file's contents.\n",
    "\"\"\""
   ]
  },
  {
   "cell_type": "code",
   "execution_count": null,
   "id": "ea898e52",
   "metadata": {},
   "outputs": [],
   "source": [
    "\"\"\"\n",
    "9. What data structure does a shelf value resemble?\n",
    "\"\"\"\n",
    "\"\"\"\n",
    "9.Answer)\n",
    "    A shelf value resembles a dictionary value; it has keys and values, along with keys()\n",
    "    and values() methods that work similarly to the dictionary methods of the same names.\n",
    "\"\"\""
   ]
  }
 ],
 "metadata": {
  "kernelspec": {
   "display_name": "Python 3",
   "language": "python",
   "name": "python3"
  },
  "language_info": {
   "codemirror_mode": {
    "name": "ipython",
    "version": 3
   },
   "file_extension": ".py",
   "mimetype": "text/x-python",
   "name": "python",
   "nbconvert_exporter": "python",
   "pygments_lexer": "ipython3",
   "version": "3.8.8"
  }
 },
 "nbformat": 4,
 "nbformat_minor": 5
}
